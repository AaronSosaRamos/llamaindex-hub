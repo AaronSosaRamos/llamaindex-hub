{
  "cells": [
    {
      "cell_type": "markdown",
      "metadata": {
        "id": "q5y05W9-51gh"
      },
      "source": [
        "#Agents and Agentic Patterns part. 1\n",
        "###By: Wilfredo Aaron Sosa Ramos"
      ]
    },
    {
      "cell_type": "markdown",
      "metadata": {
        "id": "hFClsLep_rNk"
      },
      "source": [
        "Resource: https://docs.llamaindex.ai/en/stable/module_guides/deploying/agents/usage_pattern/"
      ]
    },
    {
      "cell_type": "code",
      "execution_count": 1,
      "metadata": {
        "colab": {
          "base_uri": "https://localhost:8080/"
        },
        "id": "Rqy9VCzMyS4T",
        "outputId": "c5695d67-76e1-48ef-a420-db97f9ea7d93"
      },
      "outputs": [
        {
          "name": "stdout",
          "output_type": "stream",
          "text": [
            "Collecting llama-index-core\n",
            "  Downloading llama_index_core-0.12.6-py3-none-any.whl.metadata (2.5 kB)\n",
            "Collecting llama-index-agent-openai\n",
            "  Downloading llama_index_agent_openai-0.4.0-py3-none-any.whl.metadata (726 bytes)\n",
            "Collecting llama-index-readers-file\n",
            "  Downloading llama_index_readers_file-0.4.1-py3-none-any.whl.metadata (5.4 kB)\n",
            "Collecting llama-index-postprocessor-cohere-rerank\n",
            "  Downloading llama_index_postprocessor_cohere_rerank-0.3.0-py3-none-any.whl.metadata (721 bytes)\n",
            "Collecting llama-index-llms-openai\n",
            "  Downloading llama_index_llms_openai-0.3.10-py3-none-any.whl.metadata (3.3 kB)\n",
            "Collecting llama-index-embeddings-openai\n",
            "  Downloading llama_index_embeddings_openai-0.3.1-py3-none-any.whl.metadata (684 bytes)\n",
            "Collecting unstructured[html]\n",
            "  Downloading unstructured-0.16.11-py3-none-any.whl.metadata (24 kB)\n",
            "Requirement already satisfied: PyYAML>=6.0.1 in /usr/local/lib/python3.10/dist-packages (from llama-index-core) (6.0.2)\n",
            "Requirement already satisfied: SQLAlchemy>=1.4.49 in /usr/local/lib/python3.10/dist-packages (from SQLAlchemy[asyncio]>=1.4.49->llama-index-core) (2.0.36)\n",
            "Requirement already satisfied: aiohttp<4.0.0,>=3.8.6 in /usr/local/lib/python3.10/dist-packages (from llama-index-core) (3.11.10)\n",
            "Collecting dataclasses-json (from llama-index-core)\n",
            "  Downloading dataclasses_json-0.6.7-py3-none-any.whl.metadata (25 kB)\n",
            "Requirement already satisfied: deprecated>=1.2.9.3 in /usr/local/lib/python3.10/dist-packages (from llama-index-core) (1.2.15)\n",
            "Collecting dirtyjson<2.0.0,>=1.0.8 (from llama-index-core)\n",
            "  Downloading dirtyjson-1.0.8-py3-none-any.whl.metadata (11 kB)\n",
            "Collecting filetype<2.0.0,>=1.2.0 (from llama-index-core)\n",
            "  Downloading filetype-1.2.0-py2.py3-none-any.whl.metadata (6.5 kB)\n",
            "Requirement already satisfied: fsspec>=2023.5.0 in /usr/local/lib/python3.10/dist-packages (from llama-index-core) (2024.10.0)\n",
            "Requirement already satisfied: httpx in /usr/local/lib/python3.10/dist-packages (from llama-index-core) (0.28.1)\n",
            "Requirement already satisfied: nest-asyncio<2.0.0,>=1.5.8 in /usr/local/lib/python3.10/dist-packages (from llama-index-core) (1.6.0)\n",
            "Requirement already satisfied: networkx>=3.0 in /usr/local/lib/python3.10/dist-packages (from llama-index-core) (3.4.2)\n",
            "Requirement already satisfied: nltk>3.8.1 in /usr/local/lib/python3.10/dist-packages (from llama-index-core) (3.9.1)\n",
            "Requirement already satisfied: numpy in /usr/local/lib/python3.10/dist-packages (from llama-index-core) (1.26.4)\n",
            "Requirement already satisfied: pillow>=9.0.0 in /usr/local/lib/python3.10/dist-packages (from llama-index-core) (11.0.0)\n",
            "Requirement already satisfied: pydantic>=2.8.0 in /usr/local/lib/python3.10/dist-packages (from llama-index-core) (2.10.3)\n",
            "Requirement already satisfied: requests>=2.31.0 in /usr/local/lib/python3.10/dist-packages (from llama-index-core) (2.32.3)\n",
            "Requirement already satisfied: tenacity!=8.4.0,<10.0.0,>=8.2.0 in /usr/local/lib/python3.10/dist-packages (from llama-index-core) (9.0.0)\n",
            "Collecting tiktoken>=0.3.3 (from llama-index-core)\n",
            "  Downloading tiktoken-0.8.0-cp310-cp310-manylinux_2_17_x86_64.manylinux2014_x86_64.whl.metadata (6.6 kB)\n",
            "Requirement already satisfied: tqdm<5.0.0,>=4.66.1 in /usr/local/lib/python3.10/dist-packages (from llama-index-core) (4.66.6)\n",
            "Requirement already satisfied: typing-extensions>=4.5.0 in /usr/local/lib/python3.10/dist-packages (from llama-index-core) (4.12.2)\n",
            "Collecting typing-inspect>=0.8.0 (from llama-index-core)\n",
            "  Downloading typing_inspect-0.9.0-py3-none-any.whl.metadata (1.5 kB)\n",
            "Requirement already satisfied: wrapt in /usr/local/lib/python3.10/dist-packages (from llama-index-core) (1.17.0)\n",
            "Requirement already satisfied: openai>=1.14.0 in /usr/local/lib/python3.10/dist-packages (from llama-index-agent-openai) (1.54.5)\n",
            "Requirement already satisfied: beautifulsoup4<5.0.0,>=4.12.3 in /usr/local/lib/python3.10/dist-packages (from llama-index-readers-file) (4.12.3)\n",
            "Requirement already satisfied: pandas in /usr/local/lib/python3.10/dist-packages (from llama-index-readers-file) (2.2.2)\n",
            "Collecting pypdf<6.0.0,>=5.1.0 (from llama-index-readers-file)\n",
            "  Downloading pypdf-5.1.0-py3-none-any.whl.metadata (7.2 kB)\n",
            "Collecting striprtf<0.0.27,>=0.0.26 (from llama-index-readers-file)\n",
            "  Downloading striprtf-0.0.26-py3-none-any.whl.metadata (2.1 kB)\n",
            "Collecting cohere<6.0.0,>=5.1.1 (from llama-index-postprocessor-cohere-rerank)\n",
            "  Downloading cohere-5.13.3-py3-none-any.whl.metadata (3.5 kB)\n",
            "Collecting openai>=1.14.0 (from llama-index-agent-openai)\n",
            "  Downloading openai-1.58.1-py3-none-any.whl.metadata (27 kB)\n",
            "\u001b[33mWARNING: unstructured 0.16.11 does not provide the extra 'html'\u001b[0m\u001b[33m\n",
            "\u001b[0mRequirement already satisfied: chardet in /usr/local/lib/python3.10/dist-packages (from unstructured[html]) (5.2.0)\n",
            "Collecting python-magic (from unstructured[html])\n",
            "  Downloading python_magic-0.4.27-py2.py3-none-any.whl.metadata (5.8 kB)\n",
            "Requirement already satisfied: lxml in /usr/local/lib/python3.10/dist-packages (from unstructured[html]) (5.3.0)\n",
            "Collecting emoji (from unstructured[html])\n",
            "  Downloading emoji-2.14.0-py3-none-any.whl.metadata (5.7 kB)\n",
            "Collecting python-iso639 (from unstructured[html])\n",
            "  Downloading python_iso639-2024.10.22-py3-none-any.whl.metadata (13 kB)\n",
            "Collecting langdetect (from unstructured[html])\n",
            "  Downloading langdetect-1.0.9.tar.gz (981 kB)\n",
            "\u001b[2K     \u001b[90m━━━━━━━━━━━━━━━━━━━━━━━━━━━━━━━━━━━━━━━━\u001b[0m \u001b[32m981.5/981.5 kB\u001b[0m \u001b[31m9.9 MB/s\u001b[0m eta \u001b[36m0:00:00\u001b[0m\n",
            "\u001b[?25h  Preparing metadata (setup.py) ... \u001b[?25l\u001b[?25hdone\n",
            "Collecting rapidfuzz (from unstructured[html])\n",
            "  Downloading rapidfuzz-3.11.0-cp310-cp310-manylinux_2_17_x86_64.manylinux2014_x86_64.whl.metadata (11 kB)\n",
            "Collecting backoff (from unstructured[html])\n",
            "  Downloading backoff-2.2.1-py3-none-any.whl.metadata (14 kB)\n",
            "Collecting unstructured-client (from unstructured[html])\n",
            "  Downloading unstructured_client-0.28.1-py3-none-any.whl.metadata (20 kB)\n",
            "Requirement already satisfied: psutil in /usr/local/lib/python3.10/dist-packages (from unstructured[html]) (5.9.5)\n",
            "Collecting python-oxmsg (from unstructured[html])\n",
            "  Downloading python_oxmsg-0.0.1-py3-none-any.whl.metadata (5.0 kB)\n",
            "Requirement already satisfied: html5lib in /usr/local/lib/python3.10/dist-packages (from unstructured[html]) (1.1)\n",
            "Requirement already satisfied: aiohappyeyeballs>=2.3.0 in /usr/local/lib/python3.10/dist-packages (from aiohttp<4.0.0,>=3.8.6->llama-index-core) (2.4.4)\n",
            "Requirement already satisfied: aiosignal>=1.1.2 in /usr/local/lib/python3.10/dist-packages (from aiohttp<4.0.0,>=3.8.6->llama-index-core) (1.3.2)\n",
            "Requirement already satisfied: async-timeout<6.0,>=4.0 in /usr/local/lib/python3.10/dist-packages (from aiohttp<4.0.0,>=3.8.6->llama-index-core) (4.0.3)\n",
            "Requirement already satisfied: attrs>=17.3.0 in /usr/local/lib/python3.10/dist-packages (from aiohttp<4.0.0,>=3.8.6->llama-index-core) (24.2.0)\n",
            "Requirement already satisfied: frozenlist>=1.1.1 in /usr/local/lib/python3.10/dist-packages (from aiohttp<4.0.0,>=3.8.6->llama-index-core) (1.5.0)\n",
            "Requirement already satisfied: multidict<7.0,>=4.5 in /usr/local/lib/python3.10/dist-packages (from aiohttp<4.0.0,>=3.8.6->llama-index-core) (6.1.0)\n",
            "Requirement already satisfied: propcache>=0.2.0 in /usr/local/lib/python3.10/dist-packages (from aiohttp<4.0.0,>=3.8.6->llama-index-core) (0.2.1)\n",
            "Requirement already satisfied: yarl<2.0,>=1.17.0 in /usr/local/lib/python3.10/dist-packages (from aiohttp<4.0.0,>=3.8.6->llama-index-core) (1.18.3)\n",
            "Requirement already satisfied: soupsieve>1.2 in /usr/local/lib/python3.10/dist-packages (from beautifulsoup4<5.0.0,>=4.12.3->llama-index-readers-file) (2.6)\n",
            "Collecting fastavro<2.0.0,>=1.9.4 (from cohere<6.0.0,>=5.1.1->llama-index-postprocessor-cohere-rerank)\n",
            "  Downloading fastavro-1.9.7-cp310-cp310-manylinux_2_17_x86_64.manylinux2014_x86_64.whl.metadata (5.5 kB)\n",
            "Collecting httpx-sse==0.4.0 (from cohere<6.0.0,>=5.1.1->llama-index-postprocessor-cohere-rerank)\n",
            "  Downloading httpx_sse-0.4.0-py3-none-any.whl.metadata (9.0 kB)\n",
            "Collecting parameterized<0.10.0,>=0.9.0 (from cohere<6.0.0,>=5.1.1->llama-index-postprocessor-cohere-rerank)\n",
            "  Downloading parameterized-0.9.0-py2.py3-none-any.whl.metadata (18 kB)\n",
            "Requirement already satisfied: pydantic-core<3.0.0,>=2.18.2 in /usr/local/lib/python3.10/dist-packages (from cohere<6.0.0,>=5.1.1->llama-index-postprocessor-cohere-rerank) (2.27.1)\n",
            "Requirement already satisfied: tokenizers<1,>=0.15 in /usr/local/lib/python3.10/dist-packages (from cohere<6.0.0,>=5.1.1->llama-index-postprocessor-cohere-rerank) (0.20.3)\n",
            "Collecting types-requests<3.0.0,>=2.0.0 (from cohere<6.0.0,>=5.1.1->llama-index-postprocessor-cohere-rerank)\n",
            "  Downloading types_requests-2.32.0.20241016-py3-none-any.whl.metadata (1.9 kB)\n",
            "Requirement already satisfied: anyio in /usr/local/lib/python3.10/dist-packages (from httpx->llama-index-core) (3.7.1)\n",
            "Requirement already satisfied: certifi in /usr/local/lib/python3.10/dist-packages (from httpx->llama-index-core) (2024.8.30)\n",
            "Requirement already satisfied: httpcore==1.* in /usr/local/lib/python3.10/dist-packages (from httpx->llama-index-core) (1.0.7)\n",
            "Requirement already satisfied: idna in /usr/local/lib/python3.10/dist-packages (from httpx->llama-index-core) (3.10)\n",
            "Requirement already satisfied: h11<0.15,>=0.13 in /usr/local/lib/python3.10/dist-packages (from httpcore==1.*->httpx->llama-index-core) (0.14.0)\n",
            "Requirement already satisfied: click in /usr/local/lib/python3.10/dist-packages (from nltk>3.8.1->llama-index-core) (8.1.7)\n",
            "Requirement already satisfied: joblib in /usr/local/lib/python3.10/dist-packages (from nltk>3.8.1->llama-index-core) (1.4.2)\n",
            "Requirement already satisfied: regex>=2021.8.3 in /usr/local/lib/python3.10/dist-packages (from nltk>3.8.1->llama-index-core) (2024.9.11)\n",
            "Requirement already satisfied: distro<2,>=1.7.0 in /usr/local/lib/python3.10/dist-packages (from openai>=1.14.0->llama-index-agent-openai) (1.9.0)\n",
            "Requirement already satisfied: jiter<1,>=0.4.0 in /usr/local/lib/python3.10/dist-packages (from openai>=1.14.0->llama-index-agent-openai) (0.8.2)\n",
            "Requirement already satisfied: sniffio in /usr/local/lib/python3.10/dist-packages (from openai>=1.14.0->llama-index-agent-openai) (1.3.1)\n",
            "Requirement already satisfied: annotated-types>=0.6.0 in /usr/local/lib/python3.10/dist-packages (from pydantic>=2.8.0->llama-index-core) (0.7.0)\n",
            "Requirement already satisfied: charset-normalizer<4,>=2 in /usr/local/lib/python3.10/dist-packages (from requests>=2.31.0->llama-index-core) (3.4.0)\n",
            "Requirement already satisfied: urllib3<3,>=1.21.1 in /usr/local/lib/python3.10/dist-packages (from requests>=2.31.0->llama-index-core) (2.2.3)\n",
            "Requirement already satisfied: greenlet!=0.4.17 in /usr/local/lib/python3.10/dist-packages (from SQLAlchemy>=1.4.49->SQLAlchemy[asyncio]>=1.4.49->llama-index-core) (3.1.1)\n",
            "Collecting mypy-extensions>=0.3.0 (from typing-inspect>=0.8.0->llama-index-core)\n",
            "  Downloading mypy_extensions-1.0.0-py3-none-any.whl.metadata (1.1 kB)\n",
            "Collecting marshmallow<4.0.0,>=3.18.0 (from dataclasses-json->llama-index-core)\n",
            "  Downloading marshmallow-3.23.1-py3-none-any.whl.metadata (7.5 kB)\n",
            "Requirement already satisfied: six>=1.9 in /usr/local/lib/python3.10/dist-packages (from html5lib->unstructured[html]) (1.17.0)\n",
            "Requirement already satisfied: webencodings in /usr/local/lib/python3.10/dist-packages (from html5lib->unstructured[html]) (0.5.1)\n",
            "Requirement already satisfied: python-dateutil>=2.8.2 in /usr/local/lib/python3.10/dist-packages (from pandas->llama-index-readers-file) (2.8.2)\n",
            "Requirement already satisfied: pytz>=2020.1 in /usr/local/lib/python3.10/dist-packages (from pandas->llama-index-readers-file) (2024.2)\n",
            "Requirement already satisfied: tzdata>=2022.7 in /usr/local/lib/python3.10/dist-packages (from pandas->llama-index-readers-file) (2024.2)\n",
            "Collecting olefile (from python-oxmsg->unstructured[html])\n",
            "  Downloading olefile-0.47-py2.py3-none-any.whl.metadata (9.7 kB)\n",
            "Collecting aiofiles>=24.1.0 (from unstructured-client->unstructured[html])\n",
            "  Downloading aiofiles-24.1.0-py3-none-any.whl.metadata (10 kB)\n",
            "Requirement already satisfied: cryptography>=3.1 in /usr/local/lib/python3.10/dist-packages (from unstructured-client->unstructured[html]) (43.0.3)\n",
            "Requirement already satisfied: eval-type-backport<0.3.0,>=0.2.0 in /usr/local/lib/python3.10/dist-packages (from unstructured-client->unstructured[html]) (0.2.0)\n",
            "Collecting jsonpath-python<2.0.0,>=1.0.6 (from unstructured-client->unstructured[html])\n",
            "  Downloading jsonpath_python-1.0.6-py3-none-any.whl.metadata (12 kB)\n",
            "Collecting pydantic>=2.8.0 (from llama-index-core)\n",
            "  Downloading pydantic-2.9.2-py3-none-any.whl.metadata (149 kB)\n",
            "\u001b[2K     \u001b[90m━━━━━━━━━━━━━━━━━━━━━━━━━━━━━━━━━━━━━━━━\u001b[0m \u001b[32m149.4/149.4 kB\u001b[0m \u001b[31m12.5 MB/s\u001b[0m eta \u001b[36m0:00:00\u001b[0m\n",
            "\u001b[?25hRequirement already satisfied: requests-toolbelt>=1.0.0 in /usr/local/lib/python3.10/dist-packages (from unstructured-client->unstructured[html]) (1.0.0)\n",
            "Collecting pydantic-core<3.0.0,>=2.18.2 (from cohere<6.0.0,>=5.1.1->llama-index-postprocessor-cohere-rerank)\n",
            "  Downloading pydantic_core-2.23.4-cp310-cp310-manylinux_2_17_x86_64.manylinux2014_x86_64.whl.metadata (6.6 kB)\n",
            "Requirement already satisfied: exceptiongroup in /usr/local/lib/python3.10/dist-packages (from anyio->httpx->llama-index-core) (1.2.2)\n",
            "Requirement already satisfied: cffi>=1.12 in /usr/local/lib/python3.10/dist-packages (from cryptography>=3.1->unstructured-client->unstructured[html]) (1.17.1)\n",
            "Requirement already satisfied: packaging>=17.0 in /usr/local/lib/python3.10/dist-packages (from marshmallow<4.0.0,>=3.18.0->dataclasses-json->llama-index-core) (24.2)\n",
            "Requirement already satisfied: huggingface-hub<1.0,>=0.16.4 in /usr/local/lib/python3.10/dist-packages (from tokenizers<1,>=0.15->cohere<6.0.0,>=5.1.1->llama-index-postprocessor-cohere-rerank) (0.26.5)\n",
            "Requirement already satisfied: pycparser in /usr/local/lib/python3.10/dist-packages (from cffi>=1.12->cryptography>=3.1->unstructured-client->unstructured[html]) (2.22)\n",
            "Requirement already satisfied: filelock in /usr/local/lib/python3.10/dist-packages (from huggingface-hub<1.0,>=0.16.4->tokenizers<1,>=0.15->cohere<6.0.0,>=5.1.1->llama-index-postprocessor-cohere-rerank) (3.16.1)\n",
            "Downloading llama_index_core-0.12.6-py3-none-any.whl (1.6 MB)\n",
            "\u001b[2K   \u001b[90m━━━━━━━━━━━━━━━━━━━━━━━━━━━━━━━━━━━━━━━━\u001b[0m \u001b[32m1.6/1.6 MB\u001b[0m \u001b[31m40.3 MB/s\u001b[0m eta \u001b[36m0:00:00\u001b[0m\n",
            "\u001b[?25hDownloading llama_index_agent_openai-0.4.0-py3-none-any.whl (13 kB)\n",
            "Downloading llama_index_readers_file-0.4.1-py3-none-any.whl (38 kB)\n",
            "Downloading llama_index_postprocessor_cohere_rerank-0.3.0-py3-none-any.whl (2.9 kB)\n",
            "Downloading llama_index_llms_openai-0.3.10-py3-none-any.whl (14 kB)\n",
            "Downloading llama_index_embeddings_openai-0.3.1-py3-none-any.whl (6.2 kB)\n",
            "Downloading cohere-5.13.3-py3-none-any.whl (249 kB)\n",
            "\u001b[2K   \u001b[90m━━━━━━━━━━━━━━━━━━━━━━━━━━━━━━━━━━━━━━━━\u001b[0m \u001b[32m249.9/249.9 kB\u001b[0m \u001b[31m21.4 MB/s\u001b[0m eta \u001b[36m0:00:00\u001b[0m\n",
            "\u001b[?25hDownloading httpx_sse-0.4.0-py3-none-any.whl (7.8 kB)\n",
            "Downloading dirtyjson-1.0.8-py3-none-any.whl (25 kB)\n",
            "Downloading filetype-1.2.0-py2.py3-none-any.whl (19 kB)\n",
            "Downloading openai-1.58.1-py3-none-any.whl (454 kB)\n",
            "\u001b[2K   \u001b[90m━━━━━━━━━━━━━━━━━━━━━━━━━━━━━━━━━━━━━━━━\u001b[0m \u001b[32m454.3/454.3 kB\u001b[0m \u001b[31m36.2 MB/s\u001b[0m eta \u001b[36m0:00:00\u001b[0m\n",
            "\u001b[?25hDownloading pypdf-5.1.0-py3-none-any.whl (297 kB)\n",
            "\u001b[2K   \u001b[90m━━━━━━━━━━━━━━━━━━━━━━━━━━━━━━━━━━━━━━━━\u001b[0m \u001b[32m298.0/298.0 kB\u001b[0m \u001b[31m25.3 MB/s\u001b[0m eta \u001b[36m0:00:00\u001b[0m\n",
            "\u001b[?25hDownloading striprtf-0.0.26-py3-none-any.whl (6.9 kB)\n",
            "Downloading tiktoken-0.8.0-cp310-cp310-manylinux_2_17_x86_64.manylinux2014_x86_64.whl (1.2 MB)\n",
            "\u001b[2K   \u001b[90m━━━━━━━━━━━━━━━━━━━━━━━━━━━━━━━━━━━━━━━━\u001b[0m \u001b[32m1.2/1.2 MB\u001b[0m \u001b[31m59.6 MB/s\u001b[0m eta \u001b[36m0:00:00\u001b[0m\n",
            "\u001b[?25hDownloading typing_inspect-0.9.0-py3-none-any.whl (8.8 kB)\n",
            "Downloading backoff-2.2.1-py3-none-any.whl (15 kB)\n",
            "Downloading dataclasses_json-0.6.7-py3-none-any.whl (28 kB)\n",
            "Downloading emoji-2.14.0-py3-none-any.whl (586 kB)\n",
            "\u001b[2K   \u001b[90m━━━━━━━━━━━━━━━━━━━━━━━━━━━━━━━━━━━━━━━━\u001b[0m \u001b[32m586.9/586.9 kB\u001b[0m \u001b[31m37.8 MB/s\u001b[0m eta \u001b[36m0:00:00\u001b[0m\n",
            "\u001b[?25hDownloading python_iso639-2024.10.22-py3-none-any.whl (274 kB)\n",
            "\u001b[2K   \u001b[90m━━━━━━━━━━━━━━━━━━━━━━━━━━━━━━━━━━━━━━━━\u001b[0m \u001b[32m274.9/274.9 kB\u001b[0m \u001b[31m24.8 MB/s\u001b[0m eta \u001b[36m0:00:00\u001b[0m\n",
            "\u001b[?25hDownloading python_magic-0.4.27-py2.py3-none-any.whl (13 kB)\n",
            "Downloading python_oxmsg-0.0.1-py3-none-any.whl (31 kB)\n",
            "Downloading rapidfuzz-3.11.0-cp310-cp310-manylinux_2_17_x86_64.manylinux2014_x86_64.whl (3.1 MB)\n",
            "\u001b[2K   \u001b[90m━━━━━━━━━━━━━━━━━━━━━━━━━━━━━━━━━━━━━━━━\u001b[0m \u001b[32m3.1/3.1 MB\u001b[0m \u001b[31m71.9 MB/s\u001b[0m eta \u001b[36m0:00:00\u001b[0m\n",
            "\u001b[?25hDownloading unstructured-0.16.11-py3-none-any.whl (1.7 MB)\n",
            "\u001b[2K   \u001b[90m━━━━━━━━━━━━━━━━━━━━━━━━━━━━━━━━━━━━━━━━\u001b[0m \u001b[32m1.7/1.7 MB\u001b[0m \u001b[31m60.5 MB/s\u001b[0m eta \u001b[36m0:00:00\u001b[0m\n",
            "\u001b[?25hDownloading unstructured_client-0.28.1-py3-none-any.whl (62 kB)\n",
            "\u001b[2K   \u001b[90m━━━━━━━━━━━━━━━━━━━━━━━━━━━━━━━━━━━━━━━━\u001b[0m \u001b[32m62.9/62.9 kB\u001b[0m \u001b[31m5.0 MB/s\u001b[0m eta \u001b[36m0:00:00\u001b[0m\n",
            "\u001b[?25hDownloading pydantic-2.9.2-py3-none-any.whl (434 kB)\n",
            "\u001b[2K   \u001b[90m━━━━━━━━━━━━━━━━━━━━━━━━━━━━━━━━━━━━━━━━\u001b[0m \u001b[32m434.9/434.9 kB\u001b[0m \u001b[31m33.5 MB/s\u001b[0m eta \u001b[36m0:00:00\u001b[0m\n",
            "\u001b[?25hDownloading pydantic_core-2.23.4-cp310-cp310-manylinux_2_17_x86_64.manylinux2014_x86_64.whl (2.1 MB)\n",
            "\u001b[2K   \u001b[90m━━━━━━━━━━━━━━━━━━━━━━━━━━━━━━━━━━━━━━━━\u001b[0m \u001b[32m2.1/2.1 MB\u001b[0m \u001b[31m88.9 MB/s\u001b[0m eta \u001b[36m0:00:00\u001b[0m\n",
            "\u001b[?25hDownloading aiofiles-24.1.0-py3-none-any.whl (15 kB)\n",
            "Downloading fastavro-1.9.7-cp310-cp310-manylinux_2_17_x86_64.manylinux2014_x86_64.whl (3.1 MB)\n",
            "\u001b[2K   \u001b[90m━━━━━━━━━━━━━━━━━━━━━━━━━━━━━━━━━━━━━━━━\u001b[0m \u001b[32m3.1/3.1 MB\u001b[0m \u001b[31m93.5 MB/s\u001b[0m eta \u001b[36m0:00:00\u001b[0m\n",
            "\u001b[?25hDownloading jsonpath_python-1.0.6-py3-none-any.whl (7.6 kB)\n",
            "Downloading marshmallow-3.23.1-py3-none-any.whl (49 kB)\n",
            "\u001b[2K   \u001b[90m━━━━━━━━━━━━━━━━━━━━━━━━━━━━━━━━━━━━━━━━\u001b[0m \u001b[32m49.5/49.5 kB\u001b[0m \u001b[31m4.1 MB/s\u001b[0m eta \u001b[36m0:00:00\u001b[0m\n",
            "\u001b[?25hDownloading mypy_extensions-1.0.0-py3-none-any.whl (4.7 kB)\n",
            "Downloading parameterized-0.9.0-py2.py3-none-any.whl (20 kB)\n",
            "Downloading types_requests-2.32.0.20241016-py3-none-any.whl (15 kB)\n",
            "Downloading olefile-0.47-py2.py3-none-any.whl (114 kB)\n",
            "\u001b[2K   \u001b[90m━━━━━━━━━━━━━━━━━━━━━━━━━━━━━━━━━━━━━━━━\u001b[0m \u001b[32m114.6/114.6 kB\u001b[0m \u001b[31m10.4 MB/s\u001b[0m eta \u001b[36m0:00:00\u001b[0m\n",
            "\u001b[?25hBuilding wheels for collected packages: langdetect\n",
            "  Building wheel for langdetect (setup.py) ... \u001b[?25l\u001b[?25hdone\n",
            "  Created wheel for langdetect: filename=langdetect-1.0.9-py3-none-any.whl size=993222 sha256=0e7668ebbc9ac4ed02435cc9688a30109157e22584d86cf07b90ab8504017aae\n",
            "  Stored in directory: /root/.cache/pip/wheels/95/03/7d/59ea870c70ce4e5a370638b5462a7711ab78fba2f655d05106\n",
            "Successfully built langdetect\n",
            "Installing collected packages: striprtf, filetype, dirtyjson, types-requests, rapidfuzz, python-magic, python-iso639, pypdf, pydantic-core, parameterized, olefile, mypy-extensions, marshmallow, langdetect, jsonpath-python, httpx-sse, fastavro, emoji, backoff, aiofiles, typing-inspect, tiktoken, python-oxmsg, pydantic, unstructured-client, openai, dataclasses-json, unstructured, llama-index-core, cohere, llama-index-readers-file, llama-index-postprocessor-cohere-rerank, llama-index-llms-openai, llama-index-embeddings-openai, llama-index-agent-openai\n",
            "  Attempting uninstall: pydantic-core\n",
            "    Found existing installation: pydantic_core 2.27.1\n",
            "    Uninstalling pydantic_core-2.27.1:\n",
            "      Successfully uninstalled pydantic_core-2.27.1\n",
            "  Attempting uninstall: pydantic\n",
            "    Found existing installation: pydantic 2.10.3\n",
            "    Uninstalling pydantic-2.10.3:\n",
            "      Successfully uninstalled pydantic-2.10.3\n",
            "  Attempting uninstall: openai\n",
            "    Found existing installation: openai 1.54.5\n",
            "    Uninstalling openai-1.54.5:\n",
            "      Successfully uninstalled openai-1.54.5\n",
            "Successfully installed aiofiles-24.1.0 backoff-2.2.1 cohere-5.13.3 dataclasses-json-0.6.7 dirtyjson-1.0.8 emoji-2.14.0 fastavro-1.9.7 filetype-1.2.0 httpx-sse-0.4.0 jsonpath-python-1.0.6 langdetect-1.0.9 llama-index-agent-openai-0.4.0 llama-index-core-0.12.6 llama-index-embeddings-openai-0.3.1 llama-index-llms-openai-0.3.10 llama-index-postprocessor-cohere-rerank-0.3.0 llama-index-readers-file-0.4.1 marshmallow-3.23.1 mypy-extensions-1.0.0 olefile-0.47 openai-1.58.1 parameterized-0.9.0 pydantic-2.9.2 pydantic-core-2.23.4 pypdf-5.1.0 python-iso639-2024.10.22 python-magic-0.4.27 python-oxmsg-0.0.1 rapidfuzz-3.11.0 striprtf-0.0.26 tiktoken-0.8.0 types-requests-2.32.0.20241016 typing-inspect-0.9.0 unstructured-0.16.11 unstructured-client-0.28.1\n"
          ]
        }
      ],
      "source": [
        "!pip install --upgrade llama-index-core llama-index-agent-openai llama-index-readers-file llama-index-postprocessor-cohere-rerank llama-index-llms-openai llama-index-embeddings-openai unstructured[html]"
      ]
    },
    {
      "cell_type": "code",
      "execution_count": 6,
      "metadata": {
        "id": "bMgqAPA732pO"
      },
      "outputs": [],
      "source": [
        "import os\n",
        "from google.colab import userdata\n",
        "\n",
        "os.environ[\"OPENAI_API_KEY\"] = userdata.get('OPENAI_API_KEY')"
      ]
    },
    {
      "cell_type": "markdown",
      "metadata": {
        "id": "B3ivPjwG556u"
      },
      "source": [
        "## ReAct Agent"
      ]
    },
    {
      "cell_type": "code",
      "execution_count": 25,
      "metadata": {
        "id": "vCiuMIL-5Yb8"
      },
      "outputs": [],
      "source": [
        "from llama_index.core.tools import FunctionTool\n",
        "from llama_index.llms.openai import OpenAI\n",
        "from llama_index.core.agent import ReActAgent\n",
        "\n",
        "\n",
        "# define sample Tool\n",
        "def multiply(a: int, b: int) -> int:\n",
        "    \"\"\"Multiple two integers and returns the result integer\"\"\"\n",
        "    return a * b\n",
        "\n",
        "\n",
        "multiply_tool = FunctionTool.from_defaults(fn=multiply)\n",
        "\n",
        "# initialize llm\n",
        "llm = OpenAI(model=\"gpt-4o-mini\")\n",
        "\n",
        "# initialize ReAct agent\n",
        "agent_init = ReActAgent.from_tools([multiply_tool], llm=llm, verbose=True)"
      ]
    },
    {
      "cell_type": "code",
      "execution_count": 26,
      "metadata": {
        "colab": {
          "base_uri": "https://localhost:8080/"
        },
        "id": "OzSUbRTp5zyd",
        "outputId": "b1a29dff-8237-43ad-a87f-dcc8aa609766"
      },
      "outputs": [
        {
          "name": "stdout",
          "output_type": "stream",
          "text": [
            "> Running step 39fd5fe8-7bc8-4098-9dbd-fa92f027a21e. Step input: What is 2123 * 215123\n",
            "\u001b[1;3;38;5;200mThought: The current language of the user is: English. I need to use a tool to help me answer the question.\n",
            "Action: multiply\n",
            "Action Input: {'a': 2123, 'b': 215123}\n",
            "\u001b[0m\u001b[1;3;34mObservation: 456706129\n",
            "\u001b[0m> Running step 69608cea-91e9-412f-bac7-fd741094c62e. Step input: None\n",
            "\u001b[1;3;38;5;200mThought: I can answer without using any more tools. I'll use the user's language to answer.\n",
            "Answer: 2123 * 215123 = 456706129\n",
            "\u001b[0m"
          ]
        },
        {
          "data": {
            "text/plain": [
              "AgentChatResponse(response='2123 * 215123 = 456706129', sources=[ToolOutput(content='456706129', tool_name='multiply', raw_input={'args': (), 'kwargs': {'a': 2123, 'b': 215123}}, raw_output=456706129, is_error=False)], source_nodes=[], is_dummy_stream=False, metadata=None)"
            ]
          },
          "execution_count": 26,
          "metadata": {},
          "output_type": "execute_result"
        }
      ],
      "source": [
        "agent_init.chat(\"What is 2123 * 215123\")"
      ]
    },
    {
      "cell_type": "code",
      "execution_count": 5,
      "metadata": {
        "id": "OywzpQW86H3T"
      },
      "outputs": [],
      "source": [
        "from llama_index.core.agent import AgentRunner\n",
        "\n",
        "best_agent = AgentRunner.from_llm([multiply_tool], llm=llm, verbose=True)"
      ]
    },
    {
      "cell_type": "code",
      "execution_count": 6,
      "metadata": {
        "colab": {
          "base_uri": "https://localhost:8080/"
        },
        "id": "KUUW832I6KQV",
        "outputId": "00e1a59f-1b46-474f-9528-21744cbdd554"
      },
      "outputs": [
        {
          "name": "stdout",
          "output_type": "stream",
          "text": [
            "Added user message to memory: What is 2123 * 215123\n",
            "=== Calling Function ===\n",
            "Calling function: multiply with args: {\"a\":2123,\"b\":215123}\n",
            "Got output: 456706129\n",
            "========================\n",
            "\n"
          ]
        },
        {
          "data": {
            "text/plain": [
              "AgentChatResponse(response='The result of \\\\( 2123 \\\\times 215123 \\\\) is \\\\( 456706129 \\\\).', sources=[ToolOutput(content='456706129', tool_name='multiply', raw_input={'args': (), 'kwargs': {'a': 2123, 'b': 215123}}, raw_output=456706129, is_error=False)], source_nodes=[], is_dummy_stream=False, metadata=None)"
            ]
          },
          "execution_count": 6,
          "metadata": {},
          "output_type": "execute_result"
        }
      ],
      "source": [
        "best_agent.chat(\"What is 2123 * 215123\")"
      ]
    },
    {
      "cell_type": "markdown",
      "metadata": {
        "id": "zDbY4wpy6SoN"
      },
      "source": [
        "##Defining Tools\n",
        "###Query Engine Tools"
      ]
    },
    {
      "cell_type": "code",
      "execution_count": 7,
      "metadata": {
        "colab": {
          "base_uri": "https://localhost:8080/"
        },
        "id": "ZGvNK8yR6vZQ",
        "outputId": "2af3a5d2-a04e-43b7-cf20-c021ce23590a"
      },
      "outputs": [
        {
          "name": "stdout",
          "output_type": "stream",
          "text": [
            "--2024-12-17 23:19:09--  https://raw.githubusercontent.com/run-llama/llama_index/main/docs/docs/examples/data/10k/uber_2021.pdf\n",
            "Resolving raw.githubusercontent.com (raw.githubusercontent.com)... 185.199.108.133, 185.199.109.133, 185.199.110.133, ...\n",
            "Connecting to raw.githubusercontent.com (raw.githubusercontent.com)|185.199.108.133|:443... connected.\n",
            "HTTP request sent, awaiting response... 200 OK\n",
            "Length: 1880483 (1.8M) [application/octet-stream]\n",
            "Saving to: ‘data/10k/uber_2021.pdf’\n",
            "\n",
            "data/10k/uber_2021. 100%[===================>]   1.79M  --.-KB/s    in 0.07s   \n",
            "\n",
            "2024-12-17 23:19:10 (24.3 MB/s) - ‘data/10k/uber_2021.pdf’ saved [1880483/1880483]\n",
            "\n",
            "--2024-12-17 23:19:10--  https://raw.githubusercontent.com/run-llama/llama_index/main/docs/docs/examples/data/10k/lyft_2021.pdf\n",
            "Resolving raw.githubusercontent.com (raw.githubusercontent.com)... 185.199.109.133, 185.199.111.133, 185.199.108.133, ...\n",
            "Connecting to raw.githubusercontent.com (raw.githubusercontent.com)|185.199.109.133|:443... connected.\n",
            "HTTP request sent, awaiting response... 200 OK\n",
            "Length: 1440303 (1.4M) [application/octet-stream]\n",
            "Saving to: ‘data/10k/lyft_2021.pdf’\n",
            "\n",
            "data/10k/lyft_2021. 100%[===================>]   1.37M  --.-KB/s    in 0.07s   \n",
            "\n",
            "2024-12-17 23:19:10 (19.0 MB/s) - ‘data/10k/lyft_2021.pdf’ saved [1440303/1440303]\n",
            "\n"
          ]
        }
      ],
      "source": [
        "!mkdir -p 'data/10k/'\n",
        "!wget 'https://raw.githubusercontent.com/run-llama/llama_index/main/docs/docs/examples/data/10k/uber_2021.pdf' -O 'data/10k/uber_2021.pdf'\n",
        "!wget 'https://raw.githubusercontent.com/run-llama/llama_index/main/docs/docs/examples/data/10k/lyft_2021.pdf' -O 'data/10k/lyft_2021.pdf'"
      ]
    },
    {
      "cell_type": "code",
      "execution_count": 28,
      "metadata": {
        "id": "oT485hHN60Ts"
      },
      "outputs": [],
      "source": [
        "from llama_index.core import SimpleDirectoryReader, VectorStoreIndex\n",
        "\n",
        "lyft_docs = SimpleDirectoryReader(\n",
        "    input_files=[\"./data/10k/lyft_2021.pdf\"]\n",
        ").load_data()\n",
        "uber_docs = SimpleDirectoryReader(\n",
        "    input_files=[\"./data/10k/uber_2021.pdf\"]\n",
        ").load_data()"
      ]
    },
    {
      "cell_type": "code",
      "execution_count": 29,
      "metadata": {
        "id": "bCvNc2M07FTO"
      },
      "outputs": [],
      "source": [
        "lyft_index = VectorStoreIndex.from_documents(lyft_docs)\n",
        "uber_index = VectorStoreIndex.from_documents(uber_docs)"
      ]
    },
    {
      "cell_type": "code",
      "execution_count": 30,
      "metadata": {
        "id": "76Xxlbpp6UIg"
      },
      "outputs": [],
      "source": [
        "from llama_index.core.agent import ReActAgent\n",
        "from llama_index.core.tools import QueryEngineTool, ToolMetadata\n",
        "\n",
        "# NOTE: lyft_index and uber_index are both SimpleVectorIndex instances\n",
        "lyft_engine = lyft_index.as_query_engine(similarity_top_k=3)\n",
        "uber_engine = uber_index.as_query_engine(similarity_top_k=3)\n",
        "\n",
        "query_engine_tools = [\n",
        "    QueryEngineTool(\n",
        "        query_engine=lyft_engine,\n",
        "        metadata=ToolMetadata(\n",
        "            name=\"lyft_10k\",\n",
        "            description=\"Provides information about Lyft financials for year 2021. \"\n",
        "            \"Use a detailed plain text question as input to the tool.\",\n",
        "        )\n",
        "    ),\n",
        "    QueryEngineTool(\n",
        "        query_engine=uber_engine,\n",
        "        metadata=ToolMetadata(\n",
        "            name=\"uber_10k\",\n",
        "            description=\"Provides information about Uber financials for year 2021. \"\n",
        "            \"Use a detailed plain text question as input to the tool.\",\n",
        "        )\n",
        "    ),\n",
        "]\n",
        "\n",
        "# initialize ReAct agent\n",
        "financial_agent = ReActAgent.from_tools(query_engine_tools, llm=llm, verbose=True)"
      ]
    },
    {
      "cell_type": "code",
      "execution_count": 14,
      "metadata": {
        "colab": {
          "base_uri": "https://localhost:8080/"
        },
        "id": "cEQgHuLA7kXX",
        "outputId": "4903a2c9-85ef-4d73-a1fd-7ac8dd1023cd"
      },
      "outputs": [
        {
          "name": "stdout",
          "output_type": "stream",
          "text": [
            "> Running step 9991356b-5640-4578-ad38-950271714d0d. Step input: Give me a summary about Lyft financials for year 2021.\n",
            "\u001b[1;3;38;5;200mThought: The current language of the user is: English. I need to use a tool to help me answer the question.\n",
            "Action: lyft_10k\n",
            "Action Input: {'input': 'Give me a summary about Lyft financials for year 2021.'}\n",
            "\u001b[0m\u001b[1;3;34mObservation: Lyft's financial performance in 2021 showed positive trends compared to the previous year. The company experienced a 36% increase in revenue, with a notable 49.2% growth in the number of Active Riders in the fourth quarter of 2021 compared to the same period in 2020. The net loss decreased by 42% from $1.8 billion in 2020 to $1.0 billion in 2021, which included a benefit from a pre-tax gain related to a transaction with Woven Planet. Additionally, Lyft achieved its first annual Adjusted EBITDA profitability in 2021, amounting to $92.9 million. The company ended the year with $2.3 billion in unrestricted cash and cash equivalents, ensuring sufficient liquidity for ongoing operations and strategic initiatives.\n",
            "\u001b[0m> Running step 947a9f69-a33f-49fc-86fb-bba83e227278. Step input: None\n",
            "\u001b[1;3;38;5;200mThought: I can answer without using any more tools. I'll use the user's language to answer.\n",
            "Answer: Lyft's financial performance in 2021 showed positive trends compared to the previous year. The company experienced a 36% increase in revenue, with a notable 49.2% growth in the number of Active Riders in the fourth quarter of 2021 compared to the same period in 2020. The net loss decreased by 42% from $1.8 billion in 2020 to $1.0 billion in 2021, which included a benefit from a pre-tax gain related to a transaction with Woven Planet. Additionally, Lyft achieved its first annual Adjusted EBITDA profitability in 2021, amounting to $92.9 million. The company ended the year with $2.3 billion in unrestricted cash and cash equivalents, ensuring sufficient liquidity for ongoing operations and strategic initiatives.\n",
            "\u001b[0m"
          ]
        },
        {
          "data": {
            "text/plain": [
              "AgentChatResponse(response=\"Lyft's financial performance in 2021 showed positive trends compared to the previous year. The company experienced a 36% increase in revenue, with a notable 49.2% growth in the number of Active Riders in the fourth quarter of 2021 compared to the same period in 2020. The net loss decreased by 42% from $1.8 billion in 2020 to $1.0 billion in 2021, which included a benefit from a pre-tax gain related to a transaction with Woven Planet. Additionally, Lyft achieved its first annual Adjusted EBITDA profitability in 2021, amounting to $92.9 million. The company ended the year with $2.3 billion in unrestricted cash and cash equivalents, ensuring sufficient liquidity for ongoing operations and strategic initiatives.\", sources=[ToolOutput(content=\"Lyft's financial performance in 2021 showed positive trends compared to the previous year. The company experienced a 36% increase in revenue, with a notable 49.2% growth in the number of Active Riders in the fourth quarter of 2021 compared to the same period in 2020. The net loss decreased by 42% from $1.8 billion in 2020 to $1.0 billion in 2021, which included a benefit from a pre-tax gain related to a transaction with Woven Planet. Additionally, Lyft achieved its first annual Adjusted EBITDA profitability in 2021, amounting to $92.9 million. The company ended the year with $2.3 billion in unrestricted cash and cash equivalents, ensuring sufficient liquidity for ongoing operations and strategic initiatives.\", tool_name='lyft_10k', raw_input={'input': 'Give me a summary about Lyft financials for year 2021.'}, raw_output=Response(response=\"Lyft's financial performance in 2021 showed positive trends compared to the previous year. The company experienced a 36% increase in revenue, with a notable 49.2% growth in the number of Active Riders in the fourth quarter of 2021 compared to the same period in 2020. The net loss decreased by 42% from $1.8 billion in 2020 to $1.0 billion in 2021, which included a benefit from a pre-tax gain related to a transaction with Woven Planet. Additionally, Lyft achieved its first annual Adjusted EBITDA profitability in 2021, amounting to $92.9 million. The company ended the year with $2.3 billion in unrestricted cash and cash equivalents, ensuring sufficient liquidity for ongoing operations and strategic initiatives.\", source_nodes=[NodeWithScore(node=TextNode(id_='0d507964-2ec3-42f8-89f5-59c6f3455bb9', embedding=None, metadata={'page_label': '79', 'file_name': 'lyft_2021.pdf', 'file_path': 'data/10k/lyft_2021.pdf', 'file_type': 'application/pdf', 'file_size': 1440303, 'creation_date': '2024-12-17', 'last_modified_date': '2024-12-17'}, excluded_embed_metadata_keys=['file_name', 'file_type', 'file_size', 'creation_date', 'last_modified_date', 'last_accessed_date'], excluded_llm_metadata_keys=['file_name', 'file_type', 'file_size', 'creation_date', 'last_modified_date', 'last_accessed_date'], relationships={<NodeRelationship.SOURCE: '1'>: RelatedNodeInfo(node_id='59ad1a41-cbcc-4530-b624-cb2d63b7c4e0', node_type='4', metadata={'page_label': '79', 'file_name': 'lyft_2021.pdf', 'file_path': 'data/10k/lyft_2021.pdf', 'file_type': 'application/pdf', 'file_size': 1440303, 'creation_date': '2024-12-17', 'last_modified_date': '2024-12-17'}, hash='496cef23cfc924548b8c84dbbb8bd7c5d74719cf89632939872c590c0b7f768d')}, metadata_template='{key}: {value}', metadata_separator='\\n', text='Lyft, Inc.\\nConsolidated Statements of Operations(in thousands, except for per share data) Year Ended December 31, 20212020 2019 Revenue$ 3,208,323 $2,364,681 $3,615,960 Costs and expensesCost of revenue1,649,532 1,447,516 2,176,469 Operations and support402,233 453,963 636,116 Research and development911,946 909,126 1,505,640 Sales and marketing411,406 416,331 814,122 General and administrative915,638 946,127 1,186,093 Total costs and expenses4,290,755 4,173,063 6,318,440 Loss from operations(1,082,432) (1,808,382) (2,702,480) Interest expense(51,635) (32,678) — Other income, net135,933 43,669 102,595 Loss before income taxes(998,134) (1,797,391) (2,599,885) Provision for (benefit from) income taxes11,225 (44,534) 2,356 Net loss$ (1,009,359)$(1,752,857)$(2,602,241)Net loss per share, basic and diluted$ (3.02)$(5.61)$(11.44)Weighted-average number of shares outstanding used to compute net loss per share, basic and diluted334,724 312,175 227,498 Stock-based compensation included in costs and expenses:Cost of revenue$ 39,491 $28,743 $81,321 Operations and support24,083 15,829 75,212 Research and development414,324 325,624 971,941 Sales and marketing38,243 23,385 72,046 General and administrative208,419 172,226 398,791 The accompanying notes are an integral part of these consolidated financial statements.79', mimetype='text/plain', start_char_idx=0, end_char_idx=1324, metadata_seperator='\\n', text_template='{metadata_str}\\n\\n{content}'), score=0.8719586615117562), NodeWithScore(node=TextNode(id_='5d0224ab-e9cd-4df0-ae19-9beeb7df9329', embedding=None, metadata={'page_label': '85', 'file_name': 'lyft_2021.pdf', 'file_path': 'data/10k/lyft_2021.pdf', 'file_type': 'application/pdf', 'file_size': 1440303, 'creation_date': '2024-12-17', 'last_modified_date': '2024-12-17'}, excluded_embed_metadata_keys=['file_name', 'file_type', 'file_size', 'creation_date', 'last_modified_date', 'last_accessed_date'], excluded_llm_metadata_keys=['file_name', 'file_type', 'file_size', 'creation_date', 'last_modified_date', 'last_accessed_date'], relationships={<NodeRelationship.SOURCE: '1'>: RelatedNodeInfo(node_id='29385ffa-52d7-486d-8ae1-3f32f73dd0be', node_type='4', metadata={'page_label': '85', 'file_name': 'lyft_2021.pdf', 'file_path': 'data/10k/lyft_2021.pdf', 'file_type': 'application/pdf', 'file_size': 1440303, 'creation_date': '2024-12-17', 'last_modified_date': '2024-12-17'}, hash='74fd377caecb056a16f1b59b97896bd37a612a5791ae58570692921f517883f9'), <NodeRelationship.NEXT: '3'>: RelatedNodeInfo(node_id='942ed91f-1d73-4976-80ad-a519c81c7867', node_type='1', metadata={}, hash='1651d159fab86901f26d1b6fc46bbac8db5017b1da6a157510c1bff9738d8036')}, metadata_template='{key}: {value}', metadata_separator='\\n', text='Lyft, Inc.\\nNotes to Consolidated Financial Statements1. Description of Business and Basis of PresentationOrganization and Description of BusinessLyft,  Inc.  (the  “Company”  or  “Lyft”)  is  incorporated  in  Delaware  with  its  headquarters  in  San  Francisco,  California.  The  Company  operates  multimodaltransportation  networks  in  the  United  States  and  Canada  that  offer  access  to  a  variety  of  transportation  options  through  the  Company’s  platform  and  mobile-basedapplications. This network enables multiple modes of transportation including the facilitation of peer-to-peer ridesharing by connecting drivers who have a vehicle withriders  who  need  a  ride.  The  Lyft  Platform  provides  a  marketplace  where  drivers  can  be  matched  with  riders  via  the  Lyft  App  where  the  Company  operates  as  atransportation network company (“TNC”).Transportation options through the Company’s platform and mobile-based applications are substantially comprised of its ridesharing marketplace that connectsdrivers and riders in cities across the United States and in select cities in Canada, Lyft’s network of Light Vehicles, the Express Drive program, where drivers can enter intoshort-term  rental  agreements  with  Flexdrive  or  a  third  party  for  vehicles  that  may  be  used  to  provide  ridesharing  services  on  the  Lyft  Platform,  and  Lyft  Rentals,  aconsumer offering for users who want to rent a car for a fixed period of time for personal use, and Lyft Driver Centers and Lyft Auto Care, where drivers and riders canrequest auto maintenance and collision repair services offered through the Lyft Platform in certain markets.Basis of PresentationThese consolidated financial statements have been prepared in accordance with accounting principles generally accepted in the United States (U.S. GAAP) andinclude the accounts of the Company and its wholly-owned subsidiaries. All intercompany balances and transactions have been eliminated.The  Company  uses  the  U.S.  dollar  predominantly  as  the  functional  currency  of  its  foreign  subsidiaries.  For  foreign  subsidiaries  where  the  U.S.  dollar  is  thefunctional currency, gains and losses from remeasurement of foreign currency balances into U.S. dollars are included on the consolidated statements of operations. For theforeign subsidiary where the local currency is the functional currency, translation adjustments of foreign currency financial statements into U.S. dollars are recorded to aseparate component of accumulated other comprehensive loss.Initial Public OfferingThe  Company’s  registration  statement  on  Form  S-1  (the  “IPO  Registration  Statement”)  related  to  its  initial  public  offering  (“IPO”)  was  declared  effective  onMarch  28,  2019,  and  the  Company’s  Class  A  common  stock  began  trading  on  the  Nasdaq  Global  Select  Market  on  March  29,  2019.  On  April  2,  2019,  the  Companycompleted its IPO, in which the Company sold 32,500,000 shares of Class A common stock at a price to the public of $72.00 per share. On April 9, 2019, the Companysold an additional 2,996,845 shares of Class A common stock at a price to the public of $72.00 per share pursuant to the exercise of the underwriters’ option to purchaseadditional shares. The Company received aggregate net proceeds of $2.5 billion after deducting underwriting discounts and commissions of $70.3 million and offeringexpenses of $7.7 million subject to certain cost reimbursements.Immediately  prior  to  the  completion  of  the  IPO,  219,175,709  shares  of  redeemable  convertible  preferred  stock  then  outstanding  converted  into  an  equivalentnumber of shares of common stock. Immediately prior to the completion of the IPO, the Company filed its Amended and Restated Certificate of Incorporation, whichauthorizes a total of 18,000,000,000 shares of Class A common stock, 100,000,000 shares of Class B common stock, and 1,000,000,000 shares of preferred stock.', mimetype='text/plain', start_char_idx=0, end_char_idx=3999, metadata_seperator='\\n', text_template='{metadata_str}\\n\\n{content}'), score=0.8628338700838216), NodeWithScore(node=TextNode(id_='d373a23a-6328-4077-b346-fac1ee061e0a', embedding=None, metadata={'page_label': '57', 'file_name': 'lyft_2021.pdf', 'file_path': 'data/10k/lyft_2021.pdf', 'file_type': 'application/pdf', 'file_size': 1440303, 'creation_date': '2024-12-17', 'last_modified_date': '2024-12-17'}, excluded_embed_metadata_keys=['file_name', 'file_type', 'file_size', 'creation_date', 'last_modified_date', 'last_accessed_date'], excluded_llm_metadata_keys=['file_name', 'file_type', 'file_size', 'creation_date', 'last_modified_date', 'last_accessed_date'], relationships={<NodeRelationship.SOURCE: '1'>: RelatedNodeInfo(node_id='14a15f9c-1087-4d1c-aa2e-c53e451bb918', node_type='4', metadata={'page_label': '57', 'file_name': 'lyft_2021.pdf', 'file_path': 'data/10k/lyft_2021.pdf', 'file_type': 'application/pdf', 'file_size': 1440303, 'creation_date': '2024-12-17', 'last_modified_date': '2024-12-17'}, hash='dd188ea12a19099f09eb0f67c71370a80498dfa548d162de08c6ccabf6f5fe7b'), <NodeRelationship.NEXT: '3'>: RelatedNodeInfo(node_id='488259dd-8cee-4d5d-a6ce-6f9173e64b0f', node_type='1', metadata={}, hash='ce12432b71fac0a2dbf1f5889858e5a75a9703f6bf60a3235c7631a9d1613e39')}, metadata_template='{key}: {value}', metadata_separator='\\n', text='We have strengthened our busin\\ness over the last year and we are confident in our ability to continue to navigate this challenging period. In 2021, we saw continuedrecovery as vaccines were more widely distributed and more communities fully reopened, which resulted in revenue increasing 36% in 2021 compared to the prior year,and the number of Active Riders increasing 49.2% in the fourth quarter of 2021 compared to the fourth quarter of 2020. Net loss decreased $743.5 million, or 42%, from$1.8 billion in 2020 to $1.0 billion in 2021, which included a benefit from a pre-tax gain of $119.3 million from the transaction with Woven Planet. Adjusted EBITDA in2021  was  $92.9  million,  marking  our  first  annual  Adjusted  EBITDA  profitability.  We  remain  focused  on  our  long-term  growth  opportunities.  With  $2.3  billion  inunrestricted cash and cash equivalents and short-term investments as of December 31, 2021, we believe we have sufficient liquidity to continue business operations and totake action we determine to be in the best interests of our employees, stockholders, stakeholders and of drivers and riders on the Lyft Platform. For more information onrisks associated with the COVID-19 pandemic, see the section titled “Risk Factors” in Item 1A of Part I.Recent DevelopmentsTransaction with Woven Planet Holdings, Inc. (“Woven Planet”)On July 13, 2021, we completed a multi-element transaction with Woven Planet, a subsidiary of Toyota Motor Corporation, for the divestiture of certain assetsrelated  to  our  self-driving  vehicle  division,  Level  5,  as  well  as  commercial  agreements  for  the  utilization  of  Lyft  rideshare  and  fleet  data  to  accelerate  the  safety  andcommercialization of the automated-driving vehicles that Woven Planet is developing. We will receive, in total, approximately $515 million in cash in connection with thistransaction, with $165 million paid upfront and $350 million to be paid over a five-year period.The divestiture  did not represent a strategic shift with a major effect on our operations and financial  results, and therefore does not qualify for reporting as adiscontinued operation. We recognized a pre-tax gain of $119.3 million as a result of our transaction with Woven Planet, which was included in other income, net on theconsolidated statement of operations for the quarter ended September 30, 2021. Refer to Note 4 \"Divestitures\" to the consolidated financial  statements for informationregarding the divestiture of certain assets related to our self-driving vehicles division, Level 5.Reinsurance of Certain Legacy Auto Liability InsuranceOn April 22, 2021, our wholly-owned subsidiary,  Pacific  Valley Insurance  Company, Inc. (“PVIC”), entered  into a Quota Share Reinsurance  Agreement  (the“Reinsurance Agreement”) with DARAG Bermuda LTD (“DARAG”), under which DARAG reinsured a legacy portfolio of auto insurance policies, based on reserves inplace as of March 31, 2021, for $183.2 million of coverage above the liabilities recorded as of that date. Under the terms of the Reinsurance Agreement, PVIC ceded toDARAG approximately $251.3 million of certain legacy insurance liabilities for policies underwritten during the period of October 1, 2018 to October 1, 2020, with anaggregate limit of $434.5 million, for a premium of $271.5 million (“the Reinsurance Transaction”). The Reinsurance Agreement arrangement does not discharge PVIC ofits obligations to the policyholder. A loss of approximately $20.4 million for the net cost of the Reinsurance Transaction was recognized on the consolidated statement ofoperations for the nine months ended September 30, 2021, with $20.2 million in cost of revenue and $0.2 million in general and administrative expenses.Active Riders and Revenue per Active RiderThe  COVID-19  pandemic  caused  a  significant  decrease  in  Active  Riders  and  in  revenue  per  Active  Rider  beginning  March  2020.  Though  we  experienced  arecovery in revenue per Active Rider and the number of Active Riders in 2021, the number of Active Rider levels have not reached levels we experienced prior to the onsetof the pandemic in March 2020. The number of Active Riders is a key indicator of the scale of our community and awareness of our brand.', mimetype='text/plain', start_char_idx=0, end_char_idx=4270, metadata_seperator='\\n', text_template='{metadata_str}\\n\\n{content}'), score=0.8625935871897231)], metadata={'0d507964-2ec3-42f8-89f5-59c6f3455bb9': {'page_label': '79', 'file_name': 'lyft_2021.pdf', 'file_path': 'data/10k/lyft_2021.pdf', 'file_type': 'application/pdf', 'file_size': 1440303, 'creation_date': '2024-12-17', 'last_modified_date': '2024-12-17'}, '5d0224ab-e9cd-4df0-ae19-9beeb7df9329': {'page_label': '85', 'file_name': 'lyft_2021.pdf', 'file_path': 'data/10k/lyft_2021.pdf', 'file_type': 'application/pdf', 'file_size': 1440303, 'creation_date': '2024-12-17', 'last_modified_date': '2024-12-17'}, 'd373a23a-6328-4077-b346-fac1ee061e0a': {'page_label': '57', 'file_name': 'lyft_2021.pdf', 'file_path': 'data/10k/lyft_2021.pdf', 'file_type': 'application/pdf', 'file_size': 1440303, 'creation_date': '2024-12-17', 'last_modified_date': '2024-12-17'}}), is_error=False)], source_nodes=[NodeWithScore(node=TextNode(id_='0d507964-2ec3-42f8-89f5-59c6f3455bb9', embedding=None, metadata={'page_label': '79', 'file_name': 'lyft_2021.pdf', 'file_path': 'data/10k/lyft_2021.pdf', 'file_type': 'application/pdf', 'file_size': 1440303, 'creation_date': '2024-12-17', 'last_modified_date': '2024-12-17'}, excluded_embed_metadata_keys=['file_name', 'file_type', 'file_size', 'creation_date', 'last_modified_date', 'last_accessed_date'], excluded_llm_metadata_keys=['file_name', 'file_type', 'file_size', 'creation_date', 'last_modified_date', 'last_accessed_date'], relationships={<NodeRelationship.SOURCE: '1'>: RelatedNodeInfo(node_id='59ad1a41-cbcc-4530-b624-cb2d63b7c4e0', node_type='4', metadata={'page_label': '79', 'file_name': 'lyft_2021.pdf', 'file_path': 'data/10k/lyft_2021.pdf', 'file_type': 'application/pdf', 'file_size': 1440303, 'creation_date': '2024-12-17', 'last_modified_date': '2024-12-17'}, hash='496cef23cfc924548b8c84dbbb8bd7c5d74719cf89632939872c590c0b7f768d')}, metadata_template='{key}: {value}', metadata_separator='\\n', text='Lyft, Inc.\\nConsolidated Statements of Operations(in thousands, except for per share data) Year Ended December 31, 20212020 2019 Revenue$ 3,208,323 $2,364,681 $3,615,960 Costs and expensesCost of revenue1,649,532 1,447,516 2,176,469 Operations and support402,233 453,963 636,116 Research and development911,946 909,126 1,505,640 Sales and marketing411,406 416,331 814,122 General and administrative915,638 946,127 1,186,093 Total costs and expenses4,290,755 4,173,063 6,318,440 Loss from operations(1,082,432) (1,808,382) (2,702,480) Interest expense(51,635) (32,678) — Other income, net135,933 43,669 102,595 Loss before income taxes(998,134) (1,797,391) (2,599,885) Provision for (benefit from) income taxes11,225 (44,534) 2,356 Net loss$ (1,009,359)$(1,752,857)$(2,602,241)Net loss per share, basic and diluted$ (3.02)$(5.61)$(11.44)Weighted-average number of shares outstanding used to compute net loss per share, basic and diluted334,724 312,175 227,498 Stock-based compensation included in costs and expenses:Cost of revenue$ 39,491 $28,743 $81,321 Operations and support24,083 15,829 75,212 Research and development414,324 325,624 971,941 Sales and marketing38,243 23,385 72,046 General and administrative208,419 172,226 398,791 The accompanying notes are an integral part of these consolidated financial statements.79', mimetype='text/plain', start_char_idx=0, end_char_idx=1324, metadata_seperator='\\n', text_template='{metadata_str}\\n\\n{content}'), score=0.8719586615117562), NodeWithScore(node=TextNode(id_='5d0224ab-e9cd-4df0-ae19-9beeb7df9329', embedding=None, metadata={'page_label': '85', 'file_name': 'lyft_2021.pdf', 'file_path': 'data/10k/lyft_2021.pdf', 'file_type': 'application/pdf', 'file_size': 1440303, 'creation_date': '2024-12-17', 'last_modified_date': '2024-12-17'}, excluded_embed_metadata_keys=['file_name', 'file_type', 'file_size', 'creation_date', 'last_modified_date', 'last_accessed_date'], excluded_llm_metadata_keys=['file_name', 'file_type', 'file_size', 'creation_date', 'last_modified_date', 'last_accessed_date'], relationships={<NodeRelationship.SOURCE: '1'>: RelatedNodeInfo(node_id='29385ffa-52d7-486d-8ae1-3f32f73dd0be', node_type='4', metadata={'page_label': '85', 'file_name': 'lyft_2021.pdf', 'file_path': 'data/10k/lyft_2021.pdf', 'file_type': 'application/pdf', 'file_size': 1440303, 'creation_date': '2024-12-17', 'last_modified_date': '2024-12-17'}, hash='74fd377caecb056a16f1b59b97896bd37a612a5791ae58570692921f517883f9'), <NodeRelationship.NEXT: '3'>: RelatedNodeInfo(node_id='942ed91f-1d73-4976-80ad-a519c81c7867', node_type='1', metadata={}, hash='1651d159fab86901f26d1b6fc46bbac8db5017b1da6a157510c1bff9738d8036')}, metadata_template='{key}: {value}', metadata_separator='\\n', text='Lyft, Inc.\\nNotes to Consolidated Financial Statements1. Description of Business and Basis of PresentationOrganization and Description of BusinessLyft,  Inc.  (the  “Company”  or  “Lyft”)  is  incorporated  in  Delaware  with  its  headquarters  in  San  Francisco,  California.  The  Company  operates  multimodaltransportation  networks  in  the  United  States  and  Canada  that  offer  access  to  a  variety  of  transportation  options  through  the  Company’s  platform  and  mobile-basedapplications. This network enables multiple modes of transportation including the facilitation of peer-to-peer ridesharing by connecting drivers who have a vehicle withriders  who  need  a  ride.  The  Lyft  Platform  provides  a  marketplace  where  drivers  can  be  matched  with  riders  via  the  Lyft  App  where  the  Company  operates  as  atransportation network company (“TNC”).Transportation options through the Company’s platform and mobile-based applications are substantially comprised of its ridesharing marketplace that connectsdrivers and riders in cities across the United States and in select cities in Canada, Lyft’s network of Light Vehicles, the Express Drive program, where drivers can enter intoshort-term  rental  agreements  with  Flexdrive  or  a  third  party  for  vehicles  that  may  be  used  to  provide  ridesharing  services  on  the  Lyft  Platform,  and  Lyft  Rentals,  aconsumer offering for users who want to rent a car for a fixed period of time for personal use, and Lyft Driver Centers and Lyft Auto Care, where drivers and riders canrequest auto maintenance and collision repair services offered through the Lyft Platform in certain markets.Basis of PresentationThese consolidated financial statements have been prepared in accordance with accounting principles generally accepted in the United States (U.S. GAAP) andinclude the accounts of the Company and its wholly-owned subsidiaries. All intercompany balances and transactions have been eliminated.The  Company  uses  the  U.S.  dollar  predominantly  as  the  functional  currency  of  its  foreign  subsidiaries.  For  foreign  subsidiaries  where  the  U.S.  dollar  is  thefunctional currency, gains and losses from remeasurement of foreign currency balances into U.S. dollars are included on the consolidated statements of operations. For theforeign subsidiary where the local currency is the functional currency, translation adjustments of foreign currency financial statements into U.S. dollars are recorded to aseparate component of accumulated other comprehensive loss.Initial Public OfferingThe  Company’s  registration  statement  on  Form  S-1  (the  “IPO  Registration  Statement”)  related  to  its  initial  public  offering  (“IPO”)  was  declared  effective  onMarch  28,  2019,  and  the  Company’s  Class  A  common  stock  began  trading  on  the  Nasdaq  Global  Select  Market  on  March  29,  2019.  On  April  2,  2019,  the  Companycompleted its IPO, in which the Company sold 32,500,000 shares of Class A common stock at a price to the public of $72.00 per share. On April 9, 2019, the Companysold an additional 2,996,845 shares of Class A common stock at a price to the public of $72.00 per share pursuant to the exercise of the underwriters’ option to purchaseadditional shares. The Company received aggregate net proceeds of $2.5 billion after deducting underwriting discounts and commissions of $70.3 million and offeringexpenses of $7.7 million subject to certain cost reimbursements.Immediately  prior  to  the  completion  of  the  IPO,  219,175,709  shares  of  redeemable  convertible  preferred  stock  then  outstanding  converted  into  an  equivalentnumber of shares of common stock. Immediately prior to the completion of the IPO, the Company filed its Amended and Restated Certificate of Incorporation, whichauthorizes a total of 18,000,000,000 shares of Class A common stock, 100,000,000 shares of Class B common stock, and 1,000,000,000 shares of preferred stock.', mimetype='text/plain', start_char_idx=0, end_char_idx=3999, metadata_seperator='\\n', text_template='{metadata_str}\\n\\n{content}'), score=0.8628338700838216), NodeWithScore(node=TextNode(id_='d373a23a-6328-4077-b346-fac1ee061e0a', embedding=None, metadata={'page_label': '57', 'file_name': 'lyft_2021.pdf', 'file_path': 'data/10k/lyft_2021.pdf', 'file_type': 'application/pdf', 'file_size': 1440303, 'creation_date': '2024-12-17', 'last_modified_date': '2024-12-17'}, excluded_embed_metadata_keys=['file_name', 'file_type', 'file_size', 'creation_date', 'last_modified_date', 'last_accessed_date'], excluded_llm_metadata_keys=['file_name', 'file_type', 'file_size', 'creation_date', 'last_modified_date', 'last_accessed_date'], relationships={<NodeRelationship.SOURCE: '1'>: RelatedNodeInfo(node_id='14a15f9c-1087-4d1c-aa2e-c53e451bb918', node_type='4', metadata={'page_label': '57', 'file_name': 'lyft_2021.pdf', 'file_path': 'data/10k/lyft_2021.pdf', 'file_type': 'application/pdf', 'file_size': 1440303, 'creation_date': '2024-12-17', 'last_modified_date': '2024-12-17'}, hash='dd188ea12a19099f09eb0f67c71370a80498dfa548d162de08c6ccabf6f5fe7b'), <NodeRelationship.NEXT: '3'>: RelatedNodeInfo(node_id='488259dd-8cee-4d5d-a6ce-6f9173e64b0f', node_type='1', metadata={}, hash='ce12432b71fac0a2dbf1f5889858e5a75a9703f6bf60a3235c7631a9d1613e39')}, metadata_template='{key}: {value}', metadata_separator='\\n', text='We have strengthened our busin\\ness over the last year and we are confident in our ability to continue to navigate this challenging period. In 2021, we saw continuedrecovery as vaccines were more widely distributed and more communities fully reopened, which resulted in revenue increasing 36% in 2021 compared to the prior year,and the number of Active Riders increasing 49.2% in the fourth quarter of 2021 compared to the fourth quarter of 2020. Net loss decreased $743.5 million, or 42%, from$1.8 billion in 2020 to $1.0 billion in 2021, which included a benefit from a pre-tax gain of $119.3 million from the transaction with Woven Planet. Adjusted EBITDA in2021  was  $92.9  million,  marking  our  first  annual  Adjusted  EBITDA  profitability.  We  remain  focused  on  our  long-term  growth  opportunities.  With  $2.3  billion  inunrestricted cash and cash equivalents and short-term investments as of December 31, 2021, we believe we have sufficient liquidity to continue business operations and totake action we determine to be in the best interests of our employees, stockholders, stakeholders and of drivers and riders on the Lyft Platform. For more information onrisks associated with the COVID-19 pandemic, see the section titled “Risk Factors” in Item 1A of Part I.Recent DevelopmentsTransaction with Woven Planet Holdings, Inc. (“Woven Planet”)On July 13, 2021, we completed a multi-element transaction with Woven Planet, a subsidiary of Toyota Motor Corporation, for the divestiture of certain assetsrelated  to  our  self-driving  vehicle  division,  Level  5,  as  well  as  commercial  agreements  for  the  utilization  of  Lyft  rideshare  and  fleet  data  to  accelerate  the  safety  andcommercialization of the automated-driving vehicles that Woven Planet is developing. We will receive, in total, approximately $515 million in cash in connection with thistransaction, with $165 million paid upfront and $350 million to be paid over a five-year period.The divestiture  did not represent a strategic shift with a major effect on our operations and financial  results, and therefore does not qualify for reporting as adiscontinued operation. We recognized a pre-tax gain of $119.3 million as a result of our transaction with Woven Planet, which was included in other income, net on theconsolidated statement of operations for the quarter ended September 30, 2021. Refer to Note 4 \"Divestitures\" to the consolidated financial  statements for informationregarding the divestiture of certain assets related to our self-driving vehicles division, Level 5.Reinsurance of Certain Legacy Auto Liability InsuranceOn April 22, 2021, our wholly-owned subsidiary,  Pacific  Valley Insurance  Company, Inc. (“PVIC”), entered  into a Quota Share Reinsurance  Agreement  (the“Reinsurance Agreement”) with DARAG Bermuda LTD (“DARAG”), under which DARAG reinsured a legacy portfolio of auto insurance policies, based on reserves inplace as of March 31, 2021, for $183.2 million of coverage above the liabilities recorded as of that date. Under the terms of the Reinsurance Agreement, PVIC ceded toDARAG approximately $251.3 million of certain legacy insurance liabilities for policies underwritten during the period of October 1, 2018 to October 1, 2020, with anaggregate limit of $434.5 million, for a premium of $271.5 million (“the Reinsurance Transaction”). The Reinsurance Agreement arrangement does not discharge PVIC ofits obligations to the policyholder. A loss of approximately $20.4 million for the net cost of the Reinsurance Transaction was recognized on the consolidated statement ofoperations for the nine months ended September 30, 2021, with $20.2 million in cost of revenue and $0.2 million in general and administrative expenses.Active Riders and Revenue per Active RiderThe  COVID-19  pandemic  caused  a  significant  decrease  in  Active  Riders  and  in  revenue  per  Active  Rider  beginning  March  2020.  Though  we  experienced  arecovery in revenue per Active Rider and the number of Active Riders in 2021, the number of Active Rider levels have not reached levels we experienced prior to the onsetof the pandemic in March 2020. The number of Active Riders is a key indicator of the scale of our community and awareness of our brand.', mimetype='text/plain', start_char_idx=0, end_char_idx=4270, metadata_seperator='\\n', text_template='{metadata_str}\\n\\n{content}'), score=0.8625935871897231)], is_dummy_stream=False, metadata=None)"
            ]
          },
          "execution_count": 14,
          "metadata": {},
          "output_type": "execute_result"
        }
      ],
      "source": [
        "financial_agent.chat(\"Give me a summary about Lyft financials for year 2021.\")"
      ]
    },
    {
      "cell_type": "code",
      "execution_count": 15,
      "metadata": {
        "colab": {
          "base_uri": "https://localhost:8080/"
        },
        "id": "9GllOg198H5C",
        "outputId": "521ef1d6-c4f9-47fd-810e-640571b5c19c"
      },
      "outputs": [
        {
          "name": "stdout",
          "output_type": "stream",
          "text": [
            "> Running step 9754af40-9f38-4150-b934-c07ba97392cf. Step input: Give me a summary about Uber financials for year 2021.\n",
            "\u001b[1;3;38;5;200mThought: The current language of the user is: English. I need to use a tool to help me answer the question.\n",
            "Action: uber_10k\n",
            "Action Input: {'input': 'Give me a summary about Uber financials for year 2021.'}\n",
            "\u001b[0m\u001b[1;3;34mObservation: In 2021, Uber experienced significant growth in its financial performance. The company reported a 57% increase in revenue compared to the previous year, reaching $17.5 billion. This growth was primarily driven by the expansion of its Delivery business and an increase in Freight revenue following the acquisition of Transplace. Despite a net loss attributable to Uber Technologies, Inc. of $496 million, there was a notable 93% improvement year-over-year. The company also reported an Adjusted EBITDA loss of $774 million, showing improvement from the previous year. Additionally, Uber ended the year with $4.3 billion in cash and cash equivalents.\n",
            "\u001b[0m> Running step 4f063502-c97f-4113-bd85-5d12e788f858. Step input: None\n",
            "\u001b[1;3;38;5;200mThought: I can answer without using any more tools. I'll use the user's language to answer.\n",
            "Answer: In 2021, Uber experienced significant growth in its financial performance, reporting a 57% increase in revenue compared to the previous year, reaching $17.5 billion. This growth was primarily driven by the expansion of its Delivery business and an increase in Freight revenue following the acquisition of Transplace. Despite a net loss attributable to Uber Technologies, Inc. of $496 million, there was a notable 93% improvement year-over-year. The company also reported an Adjusted EBITDA loss of $774 million, showing improvement from the previous year. Additionally, Uber ended the year with $4.3 billion in cash and cash equivalents.\n",
            "\u001b[0m"
          ]
        },
        {
          "data": {
            "text/plain": [
              "AgentChatResponse(response='In 2021, Uber experienced significant growth in its financial performance, reporting a 57% increase in revenue compared to the previous year, reaching $17.5 billion. This growth was primarily driven by the expansion of its Delivery business and an increase in Freight revenue following the acquisition of Transplace. Despite a net loss attributable to Uber Technologies, Inc. of $496 million, there was a notable 93% improvement year-over-year. The company also reported an Adjusted EBITDA loss of $774 million, showing improvement from the previous year. Additionally, Uber ended the year with $4.3 billion in cash and cash equivalents.', sources=[ToolOutput(content='In 2021, Uber experienced significant growth in its financial performance. The company reported a 57% increase in revenue compared to the previous year, reaching $17.5 billion. This growth was primarily driven by the expansion of its Delivery business and an increase in Freight revenue following the acquisition of Transplace. Despite a net loss attributable to Uber Technologies, Inc. of $496 million, there was a notable 93% improvement year-over-year. The company also reported an Adjusted EBITDA loss of $774 million, showing improvement from the previous year. Additionally, Uber ended the year with $4.3 billion in cash and cash equivalents.', tool_name='uber_10k', raw_input={'input': 'Give me a summary about Uber financials for year 2021.'}, raw_output=Response(response='In 2021, Uber experienced significant growth in its financial performance. The company reported a 57% increase in revenue compared to the previous year, reaching $17.5 billion. This growth was primarily driven by the expansion of its Delivery business and an increase in Freight revenue following the acquisition of Transplace. Despite a net loss attributable to Uber Technologies, Inc. of $496 million, there was a notable 93% improvement year-over-year. The company also reported an Adjusted EBITDA loss of $774 million, showing improvement from the previous year. Additionally, Uber ended the year with $4.3 billion in cash and cash equivalents.', source_nodes=[NodeWithScore(node=TextNode(id_='5349289b-30f5-462f-8817-8e4a5b33a52b', embedding=None, metadata={'page_label': '53', 'file_name': 'uber_2021.pdf', 'file_path': 'data/10k/uber_2021.pdf', 'file_type': 'application/pdf', 'file_size': 1880483, 'creation_date': '2024-12-17', 'last_modified_date': '2024-12-17'}, excluded_embed_metadata_keys=['file_name', 'file_type', 'file_size', 'creation_date', 'last_modified_date', 'last_accessed_date'], excluded_llm_metadata_keys=['file_name', 'file_type', 'file_size', 'creation_date', 'last_modified_date', 'last_accessed_date'], relationships={<NodeRelationship.SOURCE: '1'>: RelatedNodeInfo(node_id='57764132-fb6e-4014-83ba-89bcee5d02f3', node_type='4', metadata={'page_label': '53', 'file_name': 'uber_2021.pdf', 'file_path': 'data/10k/uber_2021.pdf', 'file_type': 'application/pdf', 'file_size': 1880483, 'creation_date': '2024-12-17', 'last_modified_date': '2024-12-17'}, hash='6c67081fe089cde92cfa7607afe956a0ac98bbebf2dad8bfeb4004bcdf6557c3')}, metadata_template='{key}: {value}', metadata_separator='\\n', text='Financial and Operational Highlights\\nYear Ended December 31, Constant Currency (In millions, except percentages)2020 2021 2020 to 2021 %Change2020 to 2021 % Change Monthly Active Platform Consumers (“MAPCs”) 93 11827 %Trips 5,025 6,368 27 %Gross Bookings $ 57,897 $90,415 56 %53 %Revenue$ 11,139 $17,455 57 %54 %Net loss attributable to Uber Technologies, Inc. $ (6,768)$(496)93 %Mobility Adjusted EBITDA$ 1,169 $1,596 37 %Delivery Adjusted EBITDA$ (873)$(348)60 %Adjusted EBITDA $ (2,528)$(774)69 % See the section titled “Reconciliations of Non-GAAP Financial Measures” for more information and reconciliations to the most directly comparable GAAPfinancial measure. See the section titled “Certain Key Metrics and Non-GAAP Financial Measures” below for more information.MAPCs presented for annual periods are MAPCs for the fourth quarter of the year.Net loss attributable to Uber Technologies, Inc. includes stock-based compensation expense of $827 million and $1.2 billion during the years endedDecember 31, 2020 and 2021, respectively.Highlights for 2021Overall Gross Bookings increased by $32.5 billion in 2021, up 56%, or 53% on a constant currency basis, compared to 2020. Delivery Gross Bookings grew66% from 2020, on a constant currency basis, due to an increase in food delivery orders and higher basket sizes as a result of stay-at-home order demand related toCOVID-19, as well as continued expansion across U.S. and international markets. Additionally, we saw an increase in Delivery revenue resulting from an increasein certain Courier payments and incentives that are recorded in cost of revenue, where we are primarily responsible for delivery services and pay Couriers forservices provided. Mobility Gross Bookings grew 36%, on a constant currency basis, from 2020, due to increases in Trip volumes as the business recovers from theimpacts of COVID-19.Revenue was $17.5 billion, or up 57% year-over-year, reflecting the overall growth in our Delivery business and an increase in Freight revenue attributable tothe acquisition of Transplace in the fourth quarter of 2021 as well as growth in the number of shippers and carriers on the network combined with an increase involumes with our top shippers.Net loss attributable to Uber Technologies, Inc. was $496 million, a 93% improvement year-over-year, driven by a $1.6 billion pre-tax gain on the sale of ourATG Business to Aurora, a $1.6 billion pre-tax net benefit relating to Uber’s equity investments, as  well as reductions in our fixed cost structure and increasedvariable cost efficiencies. Net loss attributable to Uber Technologies, Inc. also included $1.2 billion of stock-based compensation expense.Adjusted EBITDA loss was $774 million, improving $1.8 billion from 2020 with Mobility Adjusted EBITDA profit of $1.6 billion. Additionally, DeliveryAdjusted EBITDA loss of $348 million, improved $525 million and Delivery Adjusted EBITDA margin as a percentage of Delivery Gross Bookings improved to(0.7)% from (2.9)%, compared to 2020.We ended the year with $4.3 billion in cash and cash equivalents.Other Developments for 2021AcquisitionsRemaining Interests in CornershopIn August 2021, we completed the acquisition of the remaining 45% ownership interest in Cornershop Cayman (“Cornershop”), or 47%, on a fully-dilutedbasis, in an all-stock transaction.DrizlyOn October 12, 2021, we completed the acquisition of 100% ownership interest in The Drizly Group, Inc. (“Drizly”), an on-demand alcohol marketplace inNorth America, allowing us to expand alcohol offerings in our Delivery business.(1)\\n(2), (3)(2)(2) (4) (1), (2)(1)(2)(3) (4) 51', mimetype='text/plain', start_char_idx=0, end_char_idx=3613, metadata_seperator='\\n', text_template='{metadata_str}\\n\\n{content}'), score=0.8674362134900926), NodeWithScore(node=TextNode(id_='731f72df-c1c4-4c91-8777-ab42c90b6857', embedding=None, metadata={'page_label': '77', 'file_name': 'uber_2021.pdf', 'file_path': 'data/10k/uber_2021.pdf', 'file_type': 'application/pdf', 'file_size': 1880483, 'creation_date': '2024-12-17', 'last_modified_date': '2024-12-17'}, excluded_embed_metadata_keys=['file_name', 'file_type', 'file_size', 'creation_date', 'last_modified_date', 'last_accessed_date'], excluded_llm_metadata_keys=['file_name', 'file_type', 'file_size', 'creation_date', 'last_modified_date', 'last_accessed_date'], relationships={<NodeRelationship.SOURCE: '1'>: RelatedNodeInfo(node_id='57589b7e-1944-4dc9-bd93-82dcf5a18566', node_type='4', metadata={'page_label': '77', 'file_name': 'uber_2021.pdf', 'file_path': 'data/10k/uber_2021.pdf', 'file_type': 'application/pdf', 'file_size': 1880483, 'creation_date': '2024-12-17', 'last_modified_date': '2024-12-17'}, hash='af12014b0fe0edb5541708e2ff9dd2eb74dd544520a38c2610345a8c13dac1bf')}, metadata_template='{key}: {value}', metadata_separator='\\n', text='UBER TECHNOLOGIES, INC.\\nCONSOLIDATED STATEMENTS OF OPERATIONS(In millions, except share amounts which are reflected in thousands, and per share amounts)Year Ended December 31, 20192020 2021 Revenue$ 13,000 $11,139 $17,455 Costs and expensesCost of revenue, exclusive of depreciation and amortization shown separately below6,061 5,154 9,351 Operations and support2,302 1,819 1,877 Sales and marketing4,626 3,583 4,789 Research and development4,836 2,205 2,054 General and administrative3,299 2,666 2,316 Depreciation and amortization472 575 902 Total costs and expenses21,596 16,002 21,289 Loss from operations(8,596) (4,863) (3,834) Interest expense(559) (458) (483) Other income (expense), net722 (1,625)3,292 Loss before income taxes and loss from equity method investments(8,433) (6,946) (1,025) Provision for (benefit from) income taxes45 (192)(492) Loss from equity method investments(34) (34) (37) Net loss including non-controlling interests(8,512) (6,788) (570) Less: net loss attributable to non-controlling interests, net of tax(6) (20) (74) Net loss attributable to Uber Technologies, Inc.$ (8,506)$(6,768)$(496)Net loss per share attributable to Uber Technologies, Inc. common stockholders:Basic$ (6.81)$(3.86)$(0.26)Diluted$ (6.81)$(3.86)$(0.29)Weighted-average shares used to compute net loss per share attributable to common stockholders:Basic1,248,353 1,752,960 1,892,546 Diluted1,248,353 1,752,960 1,895,519 The accompanying notes are an integral part of these consolidated financial statements.75', mimetype='text/plain', start_char_idx=0, end_char_idx=1514, metadata_seperator='\\n', text_template='{metadata_str}\\n\\n{content}'), score=0.8629739828818334), NodeWithScore(node=TextNode(id_='b7f3c73b-3b14-44f7-8ef7-6e8273e214d7', embedding=None, metadata={'page_label': '84', 'file_name': 'uber_2021.pdf', 'file_path': 'data/10k/uber_2021.pdf', 'file_type': 'application/pdf', 'file_size': 1880483, 'creation_date': '2024-12-17', 'last_modified_date': '2024-12-17'}, excluded_embed_metadata_keys=['file_name', 'file_type', 'file_size', 'creation_date', 'last_modified_date', 'last_accessed_date'], excluded_llm_metadata_keys=['file_name', 'file_type', 'file_size', 'creation_date', 'last_modified_date', 'last_accessed_date'], relationships={<NodeRelationship.SOURCE: '1'>: RelatedNodeInfo(node_id='5734577e-404f-4aa6-8dbd-818a795ef00d', node_type='4', metadata={'page_label': '84', 'file_name': 'uber_2021.pdf', 'file_path': 'data/10k/uber_2021.pdf', 'file_type': 'application/pdf', 'file_size': 1880483, 'creation_date': '2024-12-17', 'last_modified_date': '2024-12-17'}, hash='fb1744e5e8a6326a611e918030506f375ab993e7ad4029ef287fb6be61121112'), <NodeRelationship.NEXT: '3'>: RelatedNodeInfo(node_id='c3878e26-82f7-4744-9a4f-fa8a735d0c82', node_type='1', metadata={}, hash='084c174b15b85443f627cb931b239b4707061f8c992b04eb7f28fd1447945758')}, metadata_template='{key}: {value}', metadata_separator='\\n', text=\"UBER TECHNOLOGIES, INC.\\nNOTES TO CONSOLIDATED FINANCIAL STATEMENTSNote 1 – Description of Business and Summary of Significant Accounting PoliciesDescription of BusinessUber Technologies, Inc. (“Uber,” “we,” “our,” or “us”) was incorporated in Delaware in July 2010, and is headquartered in San Francisco, California. Uber isa technology platform that uses a massive network, leading technology, operational excellence and product expertise to power movement from point A to point B.Uber develops and operates proprietary technology applications supporting a variety of offerings on its platform (“platform(s)” or “Platform(s)”). Uber connectsconsumers  (“Rider(s)”)  with  independent  providers  of  ride  services  (“Mobility  Driver(s)”)  for  ridesharing  services,  and  connects  Riders  and  other  consumers(“Eaters”)  with restaurants,  grocers  and other stores (collectively,  “Merchants”)  with delivery  service  providers  (“Couriers”)  for meal  preparation,  grocery  andother delivery services. Riders and Eaters are collectively referred to as “end-user(s)” or “consumer(s).” Mobility Drivers and Couriers are collectively referred toas “Driver(s).” Uber also connects consumers with public transportation networks. Uber uses this same network, technology, operational excellence and productexpertise to connect shippers with carriers in the freight industry. Uber is also developing technologies that will provide new solutions to solve everyday problems.Our technology is used around the world, principally in the United States (“U.S.”) and Canada, Latin America, Europe, the Middle East, Africa, and Asia(excluding China and Southeast Asia).Basis of PresentationThe accompanying consolidated financial statements have been prepared in accordance with generally accepted accounting principles in the United States(“GAAP”). We consolidate our wholly-owned subsidiaries and majority-owned subsidiaries over which we exercise control, and variable interest entities (“VIE”)where  we  are  deemed  to  be  the  primary  beneficiary.  Refer  to  Note  16  –  Variable  Interest  Entities  for  further  information.  All  intercompany  balances  andtransactions have been eliminated.Use of EstimatesThe preparation of our consolidated financial statements in conformity with GAAP requires management to make estimates and assumptions, which affect thereported amounts in the financial statements and accompanying notes. Estimates are based on historical experience, where applicable, and other assumptions whichmanagement believes are reasonable under the circumstances. On an ongoing basis, management evaluates estimates, including, but not limited to: fair values ofinvestments and other financial instruments (including the measurement of credit or impairment losses); useful lives of amortizable long-lived assets; fair value ofacquired intangible assets and related impairment assessments; impairment of goodwill; stock-based compensation; income taxes and non-income tax reserves;certain deferred tax assets and tax liabilities;  insurance reserves; and other contingent liabilities. These estimates are inherently subject to judgment and actualresults could differ from those estimates. We considered the impacts of the COVID-19 pandemic on the assumptions and inputs (including market data) supportingcertain  of  these  estimates,  assumptions  and  judgments,  in  particular,  our  impairment  assessment  related  to  the  determination  of  the  fair  values  of  certaininvestments and equity method investments as well as goodwill and the recoverability of long-lived assets. The level of uncertainties and volatility in the globalfinancial markets and economies resulting from the pandemic as well as the uncertainties related to the impact of the pandemic on us and our investees' operationsand financial performance means that these estimates may change in future periods, as new events occur and additional information is obtained.Concentration of Credit RiskCash and cash equivalents, short-term investments, restricted cash and cash equivalents, other receivables, and accounts receivable are potentially subject tocredit risk concentration. Cash, cash equivalents, and available-for-sale securities primarily consist of money market funds, cash deposits, U.S. government andagency securities, and investment-grade corporate debt securities. Our investment policy limits the amount of credit exposure with any one financial institution orcommercial  issuer. Cash deposits  typically  exceed  insured  limits  and are  placed  with financial  institutions  around the  world that  we believe  are  of high creditquality. We have not experienced any material losses related to these concentrations during the periods presented. Our other receivables primarily consist of fundswithheld by well-established insurance companies with high credit quality that may be used to cover future settlement of reserved insurance claims. We rely on alimited number of third parties to provide payment processing services (“payment service providers”) to collect amounts due from end-users.\", mimetype='text/plain', start_char_idx=0, end_char_idx=5110, metadata_seperator='\\n', text_template='{metadata_str}\\n\\n{content}'), score=0.8585459161396961)], metadata={'5349289b-30f5-462f-8817-8e4a5b33a52b': {'page_label': '53', 'file_name': 'uber_2021.pdf', 'file_path': 'data/10k/uber_2021.pdf', 'file_type': 'application/pdf', 'file_size': 1880483, 'creation_date': '2024-12-17', 'last_modified_date': '2024-12-17'}, '731f72df-c1c4-4c91-8777-ab42c90b6857': {'page_label': '77', 'file_name': 'uber_2021.pdf', 'file_path': 'data/10k/uber_2021.pdf', 'file_type': 'application/pdf', 'file_size': 1880483, 'creation_date': '2024-12-17', 'last_modified_date': '2024-12-17'}, 'b7f3c73b-3b14-44f7-8ef7-6e8273e214d7': {'page_label': '84', 'file_name': 'uber_2021.pdf', 'file_path': 'data/10k/uber_2021.pdf', 'file_type': 'application/pdf', 'file_size': 1880483, 'creation_date': '2024-12-17', 'last_modified_date': '2024-12-17'}}), is_error=False)], source_nodes=[NodeWithScore(node=TextNode(id_='5349289b-30f5-462f-8817-8e4a5b33a52b', embedding=None, metadata={'page_label': '53', 'file_name': 'uber_2021.pdf', 'file_path': 'data/10k/uber_2021.pdf', 'file_type': 'application/pdf', 'file_size': 1880483, 'creation_date': '2024-12-17', 'last_modified_date': '2024-12-17'}, excluded_embed_metadata_keys=['file_name', 'file_type', 'file_size', 'creation_date', 'last_modified_date', 'last_accessed_date'], excluded_llm_metadata_keys=['file_name', 'file_type', 'file_size', 'creation_date', 'last_modified_date', 'last_accessed_date'], relationships={<NodeRelationship.SOURCE: '1'>: RelatedNodeInfo(node_id='57764132-fb6e-4014-83ba-89bcee5d02f3', node_type='4', metadata={'page_label': '53', 'file_name': 'uber_2021.pdf', 'file_path': 'data/10k/uber_2021.pdf', 'file_type': 'application/pdf', 'file_size': 1880483, 'creation_date': '2024-12-17', 'last_modified_date': '2024-12-17'}, hash='6c67081fe089cde92cfa7607afe956a0ac98bbebf2dad8bfeb4004bcdf6557c3')}, metadata_template='{key}: {value}', metadata_separator='\\n', text='Financial and Operational Highlights\\nYear Ended December 31, Constant Currency (In millions, except percentages)2020 2021 2020 to 2021 %Change2020 to 2021 % Change Monthly Active Platform Consumers (“MAPCs”) 93 11827 %Trips 5,025 6,368 27 %Gross Bookings $ 57,897 $90,415 56 %53 %Revenue$ 11,139 $17,455 57 %54 %Net loss attributable to Uber Technologies, Inc. $ (6,768)$(496)93 %Mobility Adjusted EBITDA$ 1,169 $1,596 37 %Delivery Adjusted EBITDA$ (873)$(348)60 %Adjusted EBITDA $ (2,528)$(774)69 % See the section titled “Reconciliations of Non-GAAP Financial Measures” for more information and reconciliations to the most directly comparable GAAPfinancial measure. See the section titled “Certain Key Metrics and Non-GAAP Financial Measures” below for more information.MAPCs presented for annual periods are MAPCs for the fourth quarter of the year.Net loss attributable to Uber Technologies, Inc. includes stock-based compensation expense of $827 million and $1.2 billion during the years endedDecember 31, 2020 and 2021, respectively.Highlights for 2021Overall Gross Bookings increased by $32.5 billion in 2021, up 56%, or 53% on a constant currency basis, compared to 2020. Delivery Gross Bookings grew66% from 2020, on a constant currency basis, due to an increase in food delivery orders and higher basket sizes as a result of stay-at-home order demand related toCOVID-19, as well as continued expansion across U.S. and international markets. Additionally, we saw an increase in Delivery revenue resulting from an increasein certain Courier payments and incentives that are recorded in cost of revenue, where we are primarily responsible for delivery services and pay Couriers forservices provided. Mobility Gross Bookings grew 36%, on a constant currency basis, from 2020, due to increases in Trip volumes as the business recovers from theimpacts of COVID-19.Revenue was $17.5 billion, or up 57% year-over-year, reflecting the overall growth in our Delivery business and an increase in Freight revenue attributable tothe acquisition of Transplace in the fourth quarter of 2021 as well as growth in the number of shippers and carriers on the network combined with an increase involumes with our top shippers.Net loss attributable to Uber Technologies, Inc. was $496 million, a 93% improvement year-over-year, driven by a $1.6 billion pre-tax gain on the sale of ourATG Business to Aurora, a $1.6 billion pre-tax net benefit relating to Uber’s equity investments, as  well as reductions in our fixed cost structure and increasedvariable cost efficiencies. Net loss attributable to Uber Technologies, Inc. also included $1.2 billion of stock-based compensation expense.Adjusted EBITDA loss was $774 million, improving $1.8 billion from 2020 with Mobility Adjusted EBITDA profit of $1.6 billion. Additionally, DeliveryAdjusted EBITDA loss of $348 million, improved $525 million and Delivery Adjusted EBITDA margin as a percentage of Delivery Gross Bookings improved to(0.7)% from (2.9)%, compared to 2020.We ended the year with $4.3 billion in cash and cash equivalents.Other Developments for 2021AcquisitionsRemaining Interests in CornershopIn August 2021, we completed the acquisition of the remaining 45% ownership interest in Cornershop Cayman (“Cornershop”), or 47%, on a fully-dilutedbasis, in an all-stock transaction.DrizlyOn October 12, 2021, we completed the acquisition of 100% ownership interest in The Drizly Group, Inc. (“Drizly”), an on-demand alcohol marketplace inNorth America, allowing us to expand alcohol offerings in our Delivery business.(1)\\n(2), (3)(2)(2) (4) (1), (2)(1)(2)(3) (4) 51', mimetype='text/plain', start_char_idx=0, end_char_idx=3613, metadata_seperator='\\n', text_template='{metadata_str}\\n\\n{content}'), score=0.8674362134900926), NodeWithScore(node=TextNode(id_='731f72df-c1c4-4c91-8777-ab42c90b6857', embedding=None, metadata={'page_label': '77', 'file_name': 'uber_2021.pdf', 'file_path': 'data/10k/uber_2021.pdf', 'file_type': 'application/pdf', 'file_size': 1880483, 'creation_date': '2024-12-17', 'last_modified_date': '2024-12-17'}, excluded_embed_metadata_keys=['file_name', 'file_type', 'file_size', 'creation_date', 'last_modified_date', 'last_accessed_date'], excluded_llm_metadata_keys=['file_name', 'file_type', 'file_size', 'creation_date', 'last_modified_date', 'last_accessed_date'], relationships={<NodeRelationship.SOURCE: '1'>: RelatedNodeInfo(node_id='57589b7e-1944-4dc9-bd93-82dcf5a18566', node_type='4', metadata={'page_label': '77', 'file_name': 'uber_2021.pdf', 'file_path': 'data/10k/uber_2021.pdf', 'file_type': 'application/pdf', 'file_size': 1880483, 'creation_date': '2024-12-17', 'last_modified_date': '2024-12-17'}, hash='af12014b0fe0edb5541708e2ff9dd2eb74dd544520a38c2610345a8c13dac1bf')}, metadata_template='{key}: {value}', metadata_separator='\\n', text='UBER TECHNOLOGIES, INC.\\nCONSOLIDATED STATEMENTS OF OPERATIONS(In millions, except share amounts which are reflected in thousands, and per share amounts)Year Ended December 31, 20192020 2021 Revenue$ 13,000 $11,139 $17,455 Costs and expensesCost of revenue, exclusive of depreciation and amortization shown separately below6,061 5,154 9,351 Operations and support2,302 1,819 1,877 Sales and marketing4,626 3,583 4,789 Research and development4,836 2,205 2,054 General and administrative3,299 2,666 2,316 Depreciation and amortization472 575 902 Total costs and expenses21,596 16,002 21,289 Loss from operations(8,596) (4,863) (3,834) Interest expense(559) (458) (483) Other income (expense), net722 (1,625)3,292 Loss before income taxes and loss from equity method investments(8,433) (6,946) (1,025) Provision for (benefit from) income taxes45 (192)(492) Loss from equity method investments(34) (34) (37) Net loss including non-controlling interests(8,512) (6,788) (570) Less: net loss attributable to non-controlling interests, net of tax(6) (20) (74) Net loss attributable to Uber Technologies, Inc.$ (8,506)$(6,768)$(496)Net loss per share attributable to Uber Technologies, Inc. common stockholders:Basic$ (6.81)$(3.86)$(0.26)Diluted$ (6.81)$(3.86)$(0.29)Weighted-average shares used to compute net loss per share attributable to common stockholders:Basic1,248,353 1,752,960 1,892,546 Diluted1,248,353 1,752,960 1,895,519 The accompanying notes are an integral part of these consolidated financial statements.75', mimetype='text/plain', start_char_idx=0, end_char_idx=1514, metadata_seperator='\\n', text_template='{metadata_str}\\n\\n{content}'), score=0.8629739828818334), NodeWithScore(node=TextNode(id_='b7f3c73b-3b14-44f7-8ef7-6e8273e214d7', embedding=None, metadata={'page_label': '84', 'file_name': 'uber_2021.pdf', 'file_path': 'data/10k/uber_2021.pdf', 'file_type': 'application/pdf', 'file_size': 1880483, 'creation_date': '2024-12-17', 'last_modified_date': '2024-12-17'}, excluded_embed_metadata_keys=['file_name', 'file_type', 'file_size', 'creation_date', 'last_modified_date', 'last_accessed_date'], excluded_llm_metadata_keys=['file_name', 'file_type', 'file_size', 'creation_date', 'last_modified_date', 'last_accessed_date'], relationships={<NodeRelationship.SOURCE: '1'>: RelatedNodeInfo(node_id='5734577e-404f-4aa6-8dbd-818a795ef00d', node_type='4', metadata={'page_label': '84', 'file_name': 'uber_2021.pdf', 'file_path': 'data/10k/uber_2021.pdf', 'file_type': 'application/pdf', 'file_size': 1880483, 'creation_date': '2024-12-17', 'last_modified_date': '2024-12-17'}, hash='fb1744e5e8a6326a611e918030506f375ab993e7ad4029ef287fb6be61121112'), <NodeRelationship.NEXT: '3'>: RelatedNodeInfo(node_id='c3878e26-82f7-4744-9a4f-fa8a735d0c82', node_type='1', metadata={}, hash='084c174b15b85443f627cb931b239b4707061f8c992b04eb7f28fd1447945758')}, metadata_template='{key}: {value}', metadata_separator='\\n', text=\"UBER TECHNOLOGIES, INC.\\nNOTES TO CONSOLIDATED FINANCIAL STATEMENTSNote 1 – Description of Business and Summary of Significant Accounting PoliciesDescription of BusinessUber Technologies, Inc. (“Uber,” “we,” “our,” or “us”) was incorporated in Delaware in July 2010, and is headquartered in San Francisco, California. Uber isa technology platform that uses a massive network, leading technology, operational excellence and product expertise to power movement from point A to point B.Uber develops and operates proprietary technology applications supporting a variety of offerings on its platform (“platform(s)” or “Platform(s)”). Uber connectsconsumers  (“Rider(s)”)  with  independent  providers  of  ride  services  (“Mobility  Driver(s)”)  for  ridesharing  services,  and  connects  Riders  and  other  consumers(“Eaters”)  with restaurants,  grocers  and other stores (collectively,  “Merchants”)  with delivery  service  providers  (“Couriers”)  for meal  preparation,  grocery  andother delivery services. Riders and Eaters are collectively referred to as “end-user(s)” or “consumer(s).” Mobility Drivers and Couriers are collectively referred toas “Driver(s).” Uber also connects consumers with public transportation networks. Uber uses this same network, technology, operational excellence and productexpertise to connect shippers with carriers in the freight industry. Uber is also developing technologies that will provide new solutions to solve everyday problems.Our technology is used around the world, principally in the United States (“U.S.”) and Canada, Latin America, Europe, the Middle East, Africa, and Asia(excluding China and Southeast Asia).Basis of PresentationThe accompanying consolidated financial statements have been prepared in accordance with generally accepted accounting principles in the United States(“GAAP”). We consolidate our wholly-owned subsidiaries and majority-owned subsidiaries over which we exercise control, and variable interest entities (“VIE”)where  we  are  deemed  to  be  the  primary  beneficiary.  Refer  to  Note  16  –  Variable  Interest  Entities  for  further  information.  All  intercompany  balances  andtransactions have been eliminated.Use of EstimatesThe preparation of our consolidated financial statements in conformity with GAAP requires management to make estimates and assumptions, which affect thereported amounts in the financial statements and accompanying notes. Estimates are based on historical experience, where applicable, and other assumptions whichmanagement believes are reasonable under the circumstances. On an ongoing basis, management evaluates estimates, including, but not limited to: fair values ofinvestments and other financial instruments (including the measurement of credit or impairment losses); useful lives of amortizable long-lived assets; fair value ofacquired intangible assets and related impairment assessments; impairment of goodwill; stock-based compensation; income taxes and non-income tax reserves;certain deferred tax assets and tax liabilities;  insurance reserves; and other contingent liabilities. These estimates are inherently subject to judgment and actualresults could differ from those estimates. We considered the impacts of the COVID-19 pandemic on the assumptions and inputs (including market data) supportingcertain  of  these  estimates,  assumptions  and  judgments,  in  particular,  our  impairment  assessment  related  to  the  determination  of  the  fair  values  of  certaininvestments and equity method investments as well as goodwill and the recoverability of long-lived assets. The level of uncertainties and volatility in the globalfinancial markets and economies resulting from the pandemic as well as the uncertainties related to the impact of the pandemic on us and our investees' operationsand financial performance means that these estimates may change in future periods, as new events occur and additional information is obtained.Concentration of Credit RiskCash and cash equivalents, short-term investments, restricted cash and cash equivalents, other receivables, and accounts receivable are potentially subject tocredit risk concentration. Cash, cash equivalents, and available-for-sale securities primarily consist of money market funds, cash deposits, U.S. government andagency securities, and investment-grade corporate debt securities. Our investment policy limits the amount of credit exposure with any one financial institution orcommercial  issuer. Cash deposits  typically  exceed  insured  limits  and are  placed  with financial  institutions  around the  world that  we believe  are  of high creditquality. We have not experienced any material losses related to these concentrations during the periods presented. Our other receivables primarily consist of fundswithheld by well-established insurance companies with high credit quality that may be used to cover future settlement of reserved insurance claims. We rely on alimited number of third parties to provide payment processing services (“payment service providers”) to collect amounts due from end-users.\", mimetype='text/plain', start_char_idx=0, end_char_idx=5110, metadata_seperator='\\n', text_template='{metadata_str}\\n\\n{content}'), score=0.8585459161396961)], is_dummy_stream=False, metadata=None)"
            ]
          },
          "execution_count": 15,
          "metadata": {},
          "output_type": "execute_result"
        }
      ],
      "source": [
        "agent.chat(\"Give me a summary about Uber financials for year 2021.\")"
      ]
    },
    {
      "cell_type": "markdown",
      "metadata": {
        "id": "x6O_ktzt8esW"
      },
      "source": [
        "###Use other agents as Tools"
      ]
    },
    {
      "cell_type": "markdown",
      "metadata": {
        "id": "auiLC-mH_oZT"
      },
      "source": [
        "Resource: https://docs.llamaindex.ai/en/stable/examples/index_structs/struct_indices/SQLIndexDemo/"
      ]
    },
    {
      "cell_type": "markdown",
      "metadata": {
        "id": "f0gJ5McV8qpY"
      },
      "source": [
        "####Text-to-SQL Guide (Query Engine + Retriever)\n"
      ]
    },
    {
      "cell_type": "code",
      "execution_count": 16,
      "metadata": {
        "id": "-WEQfmdn8pNS"
      },
      "outputs": [],
      "source": [
        "from IPython.display import Markdown, display\n",
        "from sqlalchemy import (\n",
        "    create_engine,\n",
        "    MetaData,\n",
        "    Table,\n",
        "    Column,\n",
        "    String,\n",
        "    Integer,\n",
        "    select,\n",
        ")"
      ]
    },
    {
      "cell_type": "code",
      "execution_count": 17,
      "metadata": {
        "id": "D-o-UXcQ8zcQ"
      },
      "outputs": [],
      "source": [
        "engine = create_engine(\"sqlite:///:memory:\")\n",
        "metadata_obj = MetaData()"
      ]
    },
    {
      "cell_type": "code",
      "execution_count": 18,
      "metadata": {
        "id": "fYaC6b0G813k"
      },
      "outputs": [],
      "source": [
        "# create city SQL table\n",
        "table_name = \"city_stats\"\n",
        "city_stats_table = Table(\n",
        "    table_name,\n",
        "    metadata_obj,\n",
        "    Column(\"city_name\", String(16), primary_key=True),\n",
        "    Column(\"population\", Integer),\n",
        "    Column(\"country\", String(16), nullable=False),\n",
        ")\n",
        "metadata_obj.create_all(engine)"
      ]
    },
    {
      "cell_type": "markdown",
      "metadata": {
        "id": "nXke72W185TD"
      },
      "source": [
        "#####Define SQL Database\n"
      ]
    },
    {
      "cell_type": "code",
      "execution_count": 19,
      "metadata": {
        "id": "y7qWQo_586JU"
      },
      "outputs": [],
      "source": [
        "from llama_index.core import SQLDatabase\n",
        "from llama_index.llms.openai import OpenAI"
      ]
    },
    {
      "cell_type": "code",
      "execution_count": 20,
      "metadata": {
        "id": "U2E8mVsX892-"
      },
      "outputs": [],
      "source": [
        "llm_for_sql_agent = OpenAI(temperature=0.1, model=\"gpt-4o-mini\")"
      ]
    },
    {
      "cell_type": "code",
      "execution_count": 21,
      "metadata": {
        "id": "-QcM_gFO9Djn"
      },
      "outputs": [],
      "source": [
        "sql_database = SQLDatabase(engine, include_tables=[\"city_stats\"])"
      ]
    },
    {
      "cell_type": "code",
      "execution_count": 22,
      "metadata": {
        "id": "Vekp39Vg9H3m"
      },
      "outputs": [],
      "source": [
        "sql_database = SQLDatabase(engine, include_tables=[\"city_stats\"])\n",
        "from sqlalchemy import insert\n",
        "\n",
        "rows = [\n",
        "    {\"city_name\": \"Toronto\", \"population\": 2930000, \"country\": \"Canada\"},\n",
        "    {\"city_name\": \"Tokyo\", \"population\": 13960000, \"country\": \"Japan\"},\n",
        "    {\n",
        "        \"city_name\": \"Chicago\",\n",
        "        \"population\": 2679000,\n",
        "        \"country\": \"United States\",\n",
        "    },\n",
        "    {\"city_name\": \"Seoul\", \"population\": 9776000, \"country\": \"South Korea\"},\n",
        "]\n",
        "for row in rows:\n",
        "    stmt = insert(city_stats_table).values(**row)\n",
        "    with engine.begin() as connection:\n",
        "        cursor = connection.execute(stmt)"
      ]
    },
    {
      "cell_type": "code",
      "execution_count": 23,
      "metadata": {
        "colab": {
          "base_uri": "https://localhost:8080/"
        },
        "id": "DMCfNfo79LK9",
        "outputId": "7d69630e-521b-454a-ad4b-974c85b681c9"
      },
      "outputs": [
        {
          "name": "stdout",
          "output_type": "stream",
          "text": [
            "[('Toronto', 2930000, 'Canada'), ('Tokyo', 13960000, 'Japan'), ('Chicago', 2679000, 'United States'), ('Seoul', 9776000, 'South Korea')]\n"
          ]
        }
      ],
      "source": [
        "# view current table\n",
        "stmt = select(\n",
        "    city_stats_table.c.city_name,\n",
        "    city_stats_table.c.population,\n",
        "    city_stats_table.c.country,\n",
        ").select_from(city_stats_table)\n",
        "\n",
        "with engine.connect() as connection:\n",
        "    results = connection.execute(stmt).fetchall()\n",
        "    print(results)"
      ]
    },
    {
      "cell_type": "markdown",
      "metadata": {
        "id": "Jrn8D9xY9Nwd"
      },
      "source": [
        "#####Query Index"
      ]
    },
    {
      "cell_type": "code",
      "execution_count": 24,
      "metadata": {
        "colab": {
          "base_uri": "https://localhost:8080/"
        },
        "id": "8Ecl3FzN9O0G",
        "outputId": "1dd63424-3a42-44f7-98e1-03332f340dc7"
      },
      "outputs": [
        {
          "name": "stdout",
          "output_type": "stream",
          "text": [
            "('Chicago',)\n",
            "('Seoul',)\n",
            "('Tokyo',)\n",
            "('Toronto',)\n"
          ]
        }
      ],
      "source": [
        "from sqlalchemy import text\n",
        "\n",
        "with engine.connect() as con:\n",
        "    rows = con.execute(text(\"SELECT city_name from city_stats\"))\n",
        "    for row in rows:\n",
        "        print(row)"
      ]
    },
    {
      "cell_type": "markdown",
      "metadata": {
        "id": "LkOWA4vC9RVT"
      },
      "source": [
        "#####Part 1: Text-to-SQL Query Engine"
      ]
    },
    {
      "cell_type": "code",
      "execution_count": 25,
      "metadata": {
        "id": "XoDb6aDr-KFj"
      },
      "outputs": [],
      "source": [
        "from llama_index.core.query_engine import NLSQLTableQueryEngine\n",
        "\n",
        "query_engine = NLSQLTableQueryEngine(\n",
        "    sql_database=sql_database, tables=[\"city_stats\"], llm=llm_for_sql_agent\n",
        ")\n",
        "query_str = \"Which city has the highest population?\"\n",
        "response = query_engine.query(query_str)"
      ]
    },
    {
      "cell_type": "code",
      "execution_count": 26,
      "metadata": {
        "colab": {
          "base_uri": "https://localhost:8080/",
          "height": 46
        },
        "id": "Tm94QMNu-Qxk",
        "outputId": "c0c0aab8-3e36-40b8-b94c-ca009f606f30"
      },
      "outputs": [
        {
          "data": {
            "text/markdown": [
              "<b>The city with the highest population is Tokyo, with a population of 13,960,000.</b>"
            ],
            "text/plain": [
              "<IPython.core.display.Markdown object>"
            ]
          },
          "metadata": {},
          "output_type": "display_data"
        }
      ],
      "source": [
        "display(Markdown(f\"<b>{response}</b>\"))"
      ]
    },
    {
      "cell_type": "markdown",
      "metadata": {
        "id": "qaxj75mL-UGm"
      },
      "source": [
        "#####Part 2: Query-Time Retrieval of Tables for Text-to-SQL"
      ]
    },
    {
      "cell_type": "code",
      "execution_count": 27,
      "metadata": {
        "id": "_ibUAl41-VBG"
      },
      "outputs": [],
      "source": [
        "from llama_index.core.indices.struct_store.sql_query import (\n",
        "    SQLTableRetrieverQueryEngine,\n",
        ")\n",
        "from llama_index.core.objects import (\n",
        "    SQLTableNodeMapping,\n",
        "    ObjectIndex,\n",
        "    SQLTableSchema,\n",
        ")\n",
        "from llama_index.core import VectorStoreIndex\n",
        "\n",
        "# set Logging to DEBUG for more detailed outputs\n",
        "table_node_mapping = SQLTableNodeMapping(sql_database)\n",
        "table_schema_objs = [\n",
        "    (SQLTableSchema(table_name=\"city_stats\"))\n",
        "]  # add a SQLTableSchema for each table\n",
        "\n",
        "obj_index = ObjectIndex.from_objects(\n",
        "    table_schema_objs,\n",
        "    table_node_mapping,\n",
        "    VectorStoreIndex,\n",
        ")\n",
        "query_engine = SQLTableRetrieverQueryEngine(\n",
        "    sql_database, obj_index.as_retriever(similarity_top_k=1)\n",
        ")"
      ]
    },
    {
      "cell_type": "code",
      "execution_count": 28,
      "metadata": {
        "colab": {
          "base_uri": "https://localhost:8080/",
          "height": 46
        },
        "id": "Rk__cZBB-px3",
        "outputId": "a058a98b-3a0f-4c0f-a7ce-8dd654ad42ff"
      },
      "outputs": [
        {
          "data": {
            "text/markdown": [
              "<b>Tokyo has the highest population among all cities, with a population of 13,960,000.</b>"
            ],
            "text/plain": [
              "<IPython.core.display.Markdown object>"
            ]
          },
          "metadata": {},
          "output_type": "display_data"
        }
      ],
      "source": [
        "response = query_engine.query(\"Which city has the highest population?\")\n",
        "display(Markdown(f\"<b>{response}</b>\"))"
      ]
    },
    {
      "cell_type": "code",
      "execution_count": 29,
      "metadata": {
        "colab": {
          "base_uri": "https://localhost:8080/"
        },
        "id": "l1cQnTjd-sMC",
        "outputId": "961603db-70f5-439b-d981-0f92fe8b0f59"
      },
      "outputs": [
        {
          "data": {
            "text/plain": [
              "[('Tokyo', 13960000)]"
            ]
          },
          "execution_count": 29,
          "metadata": {},
          "output_type": "execute_result"
        }
      ],
      "source": [
        "# you can also fetch the raw result from SQLAlchemy!\n",
        "response.metadata[\"result\"]"
      ]
    },
    {
      "cell_type": "code",
      "execution_count": 30,
      "metadata": {
        "id": "0E9P7RId-uBh"
      },
      "outputs": [],
      "source": [
        "# manually set context text\n",
        "city_stats_text = (\n",
        "    \"This table gives information regarding the population and country of a\"\n",
        "    \" given city.\\nThe user will query with codewords, where 'foo' corresponds\"\n",
        "    \" to population and 'bar'corresponds to city.\"\n",
        ")\n",
        "\n",
        "table_node_mapping = SQLTableNodeMapping(sql_database)\n",
        "table_schema_objs = [\n",
        "    (SQLTableSchema(table_name=\"city_stats\", context_str=city_stats_text))\n",
        "]"
      ]
    },
    {
      "cell_type": "markdown",
      "metadata": {
        "id": "FI4frKk4_KhM"
      },
      "source": [
        "#####Part 3: Text-to-SQL Retriever"
      ]
    },
    {
      "cell_type": "code",
      "execution_count": 31,
      "metadata": {
        "id": "STi5DZxU_MFb"
      },
      "outputs": [],
      "source": [
        "from llama_index.core.retrievers import NLSQLRetriever\n",
        "\n",
        "# default retrieval (return_raw=True)\n",
        "nl_sql_retriever = NLSQLRetriever(\n",
        "    sql_database, tables=[\"city_stats\"], return_raw=True\n",
        ")"
      ]
    },
    {
      "cell_type": "code",
      "execution_count": 32,
      "metadata": {
        "id": "NVCJ3Fnw_PTN"
      },
      "outputs": [],
      "source": [
        "results = nl_sql_retriever.retrieve(\n",
        "    \"Return the top 5 cities (along with their populations) with the highest population.\"\n",
        ")"
      ]
    },
    {
      "cell_type": "code",
      "execution_count": 33,
      "metadata": {
        "colab": {
          "base_uri": "https://localhost:8080/",
          "height": 81
        },
        "id": "zP2tO5xQ_RpP",
        "outputId": "9c4a8e1c-45fd-4bcd-de72-df44436a5647"
      },
      "outputs": [
        {
          "data": {
            "text/markdown": [
              "**Node ID:** be96083e-9f71-4a54-9948-28e79bde53da<br>**Similarity:** None<br>**Text:** [('Tokyo', 13960000), ('Seoul', 9776000), ('Toronto', 2930000), ('Chicago', 2679000)]<br>"
            ],
            "text/plain": [
              "<IPython.core.display.Markdown object>"
            ]
          },
          "metadata": {},
          "output_type": "display_data"
        }
      ],
      "source": [
        "from llama_index.core.response.notebook_utils import display_source_node\n",
        "\n",
        "for n in results:\n",
        "    display_source_node(n)"
      ]
    },
    {
      "cell_type": "code",
      "execution_count": 34,
      "metadata": {
        "id": "z35dHTjB_Wug"
      },
      "outputs": [],
      "source": [
        "# default retrieval (return_raw=False)\n",
        "nl_sql_retriever = NLSQLRetriever(\n",
        "    sql_database, tables=[\"city_stats\"], return_raw=False\n",
        ")"
      ]
    },
    {
      "cell_type": "code",
      "execution_count": 35,
      "metadata": {
        "id": "at7oN0gS_Ydx"
      },
      "outputs": [],
      "source": [
        "results = nl_sql_retriever.retrieve(\n",
        "    \"Return the top 5 cities (along with their populations) with the highest population.\"\n",
        ")"
      ]
    },
    {
      "cell_type": "code",
      "execution_count": 36,
      "metadata": {
        "colab": {
          "base_uri": "https://localhost:8080/",
          "height": 325
        },
        "id": "qAKGKlVV_adz",
        "outputId": "5e9df612-9002-429b-c6a6-76003c5d00e1"
      },
      "outputs": [
        {
          "data": {
            "text/markdown": [
              "**Node ID:** 8a78168e-96f3-407a-8309-f947030f75eb<br>**Similarity:** None<br>**Text:** <br>**Metadata:** {'city_name': 'Tokyo', 'population': 13960000}<br>"
            ],
            "text/plain": [
              "<IPython.core.display.Markdown object>"
            ]
          },
          "metadata": {},
          "output_type": "display_data"
        },
        {
          "data": {
            "text/markdown": [
              "**Node ID:** 552ae0c7-561b-4d6f-8f48-04e95976a3f0<br>**Similarity:** None<br>**Text:** <br>**Metadata:** {'city_name': 'Seoul', 'population': 9776000}<br>"
            ],
            "text/plain": [
              "<IPython.core.display.Markdown object>"
            ]
          },
          "metadata": {},
          "output_type": "display_data"
        },
        {
          "data": {
            "text/markdown": [
              "**Node ID:** b15f7c52-3de7-4437-aee5-15f4cf0c2975<br>**Similarity:** None<br>**Text:** <br>**Metadata:** {'city_name': 'Toronto', 'population': 2930000}<br>"
            ],
            "text/plain": [
              "<IPython.core.display.Markdown object>"
            ]
          },
          "metadata": {},
          "output_type": "display_data"
        },
        {
          "data": {
            "text/markdown": [
              "**Node ID:** 67a35657-cda6-4f14-91e4-24a34d80b350<br>**Similarity:** None<br>**Text:** <br>**Metadata:** {'city_name': 'Chicago', 'population': 2679000}<br>"
            ],
            "text/plain": [
              "<IPython.core.display.Markdown object>"
            ]
          },
          "metadata": {},
          "output_type": "display_data"
        }
      ],
      "source": [
        "# NOTE: all the content is in the metadata\n",
        "for n in results:\n",
        "    display_source_node(n, show_source_metadata=True)"
      ]
    },
    {
      "cell_type": "markdown",
      "metadata": {
        "id": "xTFVltYn_fho"
      },
      "source": [
        "#####Plug into our RetrieverQueryEngine"
      ]
    },
    {
      "cell_type": "code",
      "execution_count": 37,
      "metadata": {
        "id": "o1yGp5K8_giv"
      },
      "outputs": [],
      "source": [
        "from llama_index.core.query_engine import RetrieverQueryEngine\n",
        "\n",
        "query_engine = RetrieverQueryEngine.from_args(nl_sql_retriever)"
      ]
    },
    {
      "cell_type": "code",
      "execution_count": 38,
      "metadata": {
        "id": "puUfMLze_keM"
      },
      "outputs": [],
      "source": [
        "response = query_engine.query(\n",
        "    \"Return the top 5 cities (along with their populations) with the highest population.\"\n",
        ")"
      ]
    },
    {
      "cell_type": "code",
      "execution_count": 39,
      "metadata": {
        "colab": {
          "base_uri": "https://localhost:8080/"
        },
        "id": "prSRdWFy_mVy",
        "outputId": "131161ad-c96f-4bc0-b1f7-83d83e442b6b"
      },
      "outputs": [
        {
          "name": "stdout",
          "output_type": "stream",
          "text": [
            "Tokyo: 13,960,000  \n",
            "Seoul: 9,776,000  \n",
            "Toronto: 2,930,000  \n",
            "Chicago: 2,679,000\n"
          ]
        }
      ],
      "source": [
        "print(str(response))"
      ]
    },
    {
      "cell_type": "markdown",
      "metadata": {
        "id": "dqPWXqhw_xnl"
      },
      "source": [
        "####SQL Agent\n",
        "Resource: https://docs.llamaindex.ai/en/stable/examples/agent/agent_runner/query_pipeline_agent/?h=sql+agent#building-an-agent-around-a-query-pipeline"
      ]
    },
    {
      "cell_type": "code",
      "execution_count": 2,
      "metadata": {
        "id": "UiMCcMVRAZiM"
      },
      "outputs": [],
      "source": [
        "from llama_index.core import SQLDatabase\n",
        "from sqlalchemy import (\n",
        "    create_engine,\n",
        "    MetaData,\n",
        "    Table,\n",
        "    Column,\n",
        "    String,\n",
        "    Integer,\n",
        "    select,\n",
        "    column,\n",
        ")\n",
        "\n",
        "engine = create_engine(\"sqlite:///chinook.db\")\n",
        "sql_database = SQLDatabase(engine)"
      ]
    },
    {
      "cell_type": "code",
      "execution_count": 3,
      "metadata": {
        "id": "XtOooL4NAe6U"
      },
      "outputs": [],
      "source": [
        "from llama_index.core.query_pipeline import QueryPipeline"
      ]
    },
    {
      "cell_type": "code",
      "execution_count": 46,
      "metadata": {
        "colab": {
          "base_uri": "https://localhost:8080/"
        },
        "id": "2i87N-pvAhsL",
        "outputId": "e66d862c-01b4-4a01-afad-130d49f2a041"
      },
      "outputs": [
        {
          "name": "stdout",
          "output_type": "stream",
          "text": [
            "  % Total    % Received % Xferd  Average Speed   Time    Time     Time  Current\n",
            "                                 Dload  Upload   Total   Spent    Left  Speed\n",
            "\r  0     0    0     0    0     0      0      0 --:--:-- --:--:-- --:--:--     0\r100  298k  100  298k    0     0  1835k      0 --:--:-- --:--:-- --:--:-- 1842k\n",
            "curl: (6) Could not resolve host: .\n",
            "Archive:  ./chinook.zip\n",
            "replace chinook.db? [y]es, [n]o, [A]ll, [N]one, [r]ename: y\n",
            "  inflating: chinook.db              \n"
          ]
        }
      ],
      "source": [
        "!curl \"https://www.sqlitetutorial.net/wp-content/uploads/2018/03/chinook.zip\" -O ./chinook.zip\n",
        "!unzip ./chinook.zip"
      ]
    },
    {
      "cell_type": "markdown",
      "metadata": {
        "id": "s9S8OYlYBkQf"
      },
      "source": [
        "#####Setup ReAct Agent Pipeline"
      ]
    },
    {
      "cell_type": "code",
      "execution_count": 4,
      "metadata": {
        "id": "BxeBhtMhBhjO"
      },
      "outputs": [],
      "source": [
        "from llama_index.core.query_pipeline import QueryPipeline as QP\n",
        "\n",
        "qp = QP(verbose=True)"
      ]
    },
    {
      "cell_type": "markdown",
      "metadata": {
        "id": "s5F7g3zZBz-d"
      },
      "source": [
        "#####Setup Text-to-SQL Query Engine / Tool"
      ]
    },
    {
      "cell_type": "code",
      "execution_count": 7,
      "metadata": {
        "id": "xdOX994WB1Rp"
      },
      "outputs": [],
      "source": [
        "from llama_index.core.query_engine import NLSQLTableQueryEngine\n",
        "from llama_index.core.tools import QueryEngineTool\n",
        "\n",
        "sql_query_engine = NLSQLTableQueryEngine(\n",
        "    sql_database=sql_database,\n",
        "    tables=[\"albums\", \"tracks\", \"artists\"],\n",
        "    verbose=True,\n",
        ")\n",
        "sql_tool = QueryEngineTool.from_defaults(\n",
        "    query_engine=sql_query_engine,\n",
        "    name=\"sql_tool\",\n",
        "    description=(\n",
        "        \"Useful for translating a natural language query into a SQL query\"\n",
        "    ),\n",
        ")"
      ]
    },
    {
      "cell_type": "markdown",
      "metadata": {
        "id": "IbceHCWjBoVy"
      },
      "source": [
        "#####Define Agent Input Component"
      ]
    },
    {
      "cell_type": "code",
      "execution_count": 8,
      "metadata": {
        "id": "8PSpGWjgBpKg"
      },
      "outputs": [],
      "source": [
        "from llama_index.core.agent.react.types import (\n",
        "    ActionReasoningStep,\n",
        "    ObservationReasoningStep,\n",
        "    ResponseReasoningStep,\n",
        ")\n",
        "from llama_index.core.agent import Task, AgentChatResponse\n",
        "from llama_index.core.query_pipeline import (\n",
        "    StatefulFnComponent,\n",
        "    QueryComponent,\n",
        "    ToolRunnerComponent,\n",
        ")\n",
        "from llama_index.core.llms import MessageRole\n",
        "from typing import Dict, Any, Optional, Tuple, List, cast\n",
        "\n",
        "\n",
        "# Input Component\n",
        "## This is the component that produces agent inputs to the rest of the components\n",
        "## Can also put initialization logic here.\n",
        "def agent_input_fn(state: Dict[str, Any]) -> str:\n",
        "    \"\"\"Agent input function.\n",
        "\n",
        "    Returns:\n",
        "        A Dictionary of output keys and values. If you are specifying\n",
        "        src_key when defining links between this component and other\n",
        "        components, make sure the src_key matches the specified output_key.\n",
        "\n",
        "    \"\"\"\n",
        "    task = state[\"task\"]\n",
        "    if len(state[\"current_reasoning\"]) == 0:\n",
        "        reasoning_step = ObservationReasoningStep(observation=task.input)\n",
        "        state[\"current_reasoning\"].append(reasoning_step)\n",
        "    return task.input\n",
        "\n",
        "\n",
        "agent_input_component = StatefulFnComponent(fn=agent_input_fn)"
      ]
    },
    {
      "cell_type": "markdown",
      "metadata": {
        "id": "MOz-2sxHBtM6"
      },
      "source": [
        "#####Define Agent Prompt"
      ]
    },
    {
      "cell_type": "code",
      "execution_count": 9,
      "metadata": {
        "id": "zbFpzmwbBuIU"
      },
      "outputs": [],
      "source": [
        "from llama_index.core.agent import ReActChatFormatter\n",
        "from llama_index.core.query_pipeline import InputComponent, Link\n",
        "from llama_index.core.llms import ChatMessage\n",
        "from llama_index.core.tools import BaseTool\n",
        "\n",
        "\n",
        "## define prompt function\n",
        "def react_prompt_fn(\n",
        "    state: Dict[str, Any], input: str, tools: List[BaseTool]\n",
        ") -> List[ChatMessage]:\n",
        "    task = state[\"task\"]\n",
        "    # Add input to reasoning\n",
        "    chat_formatter = ReActChatFormatter()\n",
        "    cur_prompt = chat_formatter.format(\n",
        "        tools,\n",
        "        chat_history=task.memory.get(),\n",
        "        current_reasoning=state[\"current_reasoning\"],\n",
        "    )\n",
        "    return cur_prompt\n",
        "\n",
        "\n",
        "react_prompt_component = StatefulFnComponent(\n",
        "    fn=react_prompt_fn, partial_dict={\"tools\": [sql_tool]}\n",
        ")"
      ]
    },
    {
      "cell_type": "markdown",
      "metadata": {
        "id": "_sv6-Fd1B8RQ"
      },
      "source": [
        "#####Define Agent Output Parser + Tool Pipeline"
      ]
    },
    {
      "cell_type": "code",
      "execution_count": 10,
      "metadata": {
        "id": "HcjL1uS0CCgI"
      },
      "outputs": [],
      "source": [
        "from typing import Set, Optional\n",
        "from llama_index.core.agent.react.output_parser import ReActOutputParser\n",
        "from llama_index.core.llms import ChatResponse\n",
        "from llama_index.core.agent.types import Task\n",
        "\n",
        "\n",
        "def parse_react_output_fn(state: Dict[str, Any], chat_response: ChatResponse):\n",
        "    \"\"\"Parse ReAct output into a reasoning step.\"\"\"\n",
        "    output_parser = ReActOutputParser()\n",
        "    reasoning_step = output_parser.parse(chat_response.message.content)\n",
        "    return {\"done\": reasoning_step.is_done, \"reasoning_step\": reasoning_step}\n",
        "\n",
        "\n",
        "parse_react_output = StatefulFnComponent(fn=parse_react_output_fn)\n",
        "\n",
        "\n",
        "def run_tool_fn(state: Dict[str, Any], reasoning_step: ActionReasoningStep):\n",
        "    \"\"\"Run tool and process tool output.\"\"\"\n",
        "    task = state[\"task\"]\n",
        "    tool_runner_component = ToolRunnerComponent(\n",
        "        [sql_tool]\n",
        "    )\n",
        "    tool_output = tool_runner_component.run_component(\n",
        "        tool_name=reasoning_step.action,\n",
        "        tool_input=reasoning_step.action_input,\n",
        "    )\n",
        "    observation_step = ObservationReasoningStep(observation=str(tool_output))\n",
        "    state[\"current_reasoning\"].append(observation_step)\n",
        "    # TODO: get output\n",
        "\n",
        "    # return tuple of current output and False for is_done\n",
        "    return observation_step.get_content(), False\n",
        "\n",
        "\n",
        "run_tool = StatefulFnComponent(fn=run_tool_fn)\n",
        "\n",
        "\n",
        "def process_response_fn(\n",
        "    state: Dict[str, Any], response_step: ResponseReasoningStep\n",
        "):\n",
        "    \"\"\"Process response.\"\"\"\n",
        "    state[\"current_reasoning\"].append(response_step)\n",
        "    return response_step.response, True\n",
        "\n",
        "\n",
        "process_response = StatefulFnComponent(fn=process_response_fn)"
      ]
    },
    {
      "cell_type": "markdown",
      "metadata": {
        "id": "6Mz4c5aLCIV1"
      },
      "source": [
        "#####Stitch together Agent Query Pipeline\n"
      ]
    },
    {
      "cell_type": "code",
      "execution_count": 11,
      "metadata": {
        "id": "57dUIzYRCrIH"
      },
      "outputs": [],
      "source": [
        "from llama_index.core.query_pipeline import QueryPipeline as QP\n",
        "from llama_index.llms.openai import OpenAI\n",
        "\n",
        "qp.add_modules(\n",
        "    {\n",
        "        \"agent_input\": agent_input_component,\n",
        "        \"react_prompt\": react_prompt_component,\n",
        "        \"llm\": OpenAI(model=\"gpt-4o-mini\"),\n",
        "        \"react_output_parser\": parse_react_output,\n",
        "        \"run_tool\": run_tool,\n",
        "        \"process_response\": process_response,\n",
        "    }\n",
        ")"
      ]
    },
    {
      "cell_type": "code",
      "execution_count": 12,
      "metadata": {
        "id": "8-_NoN7FCQNH"
      },
      "outputs": [],
      "source": [
        "# link input to react prompt to parsed out response (either tool action/input or observation)\n",
        "qp.add_chain([\"agent_input\", \"react_prompt\", \"llm\", \"react_output_parser\"])\n",
        "\n",
        "# add conditional link from react output to tool call (if not done)\n",
        "qp.add_link(\n",
        "    \"react_output_parser\",\n",
        "    \"run_tool\",\n",
        "    condition_fn=lambda x: not x[\"done\"],\n",
        "    input_fn=lambda x: x[\"reasoning_step\"],\n",
        ")\n",
        "# add conditional link from react output to final response processing (if done)\n",
        "qp.add_link(\n",
        "    \"react_output_parser\",\n",
        "    \"process_response\",\n",
        "    condition_fn=lambda x: x[\"done\"],\n",
        "    input_fn=lambda x: x[\"reasoning_step\"],\n",
        ")"
      ]
    },
    {
      "cell_type": "markdown",
      "metadata": {
        "id": "IjiQU6MJCUIu"
      },
      "source": [
        "#####Setup Agent Worker around Text-to-SQL Query Pipeline"
      ]
    },
    {
      "cell_type": "code",
      "execution_count": 13,
      "metadata": {
        "id": "k-_-LPYQCT_3"
      },
      "outputs": [],
      "source": [
        "from llama_index.core.agent import FnAgentWorker\n",
        "from typing import Dict, Tuple, Any\n",
        "\n",
        "\n",
        "def run_agent_fn(state: Dict[str, Any]) -> Tuple[Dict[str, Any], bool]:\n",
        "    \"\"\"Run agent function.\"\"\"\n",
        "    task, qp = state[\"__task__\"], state[\"query_pipeline\"]\n",
        "    # if first run, then set query pipeline state to initial variables\n",
        "    if state[\"is_first\"]:\n",
        "        qp.set_state(\n",
        "            {\n",
        "                \"task\": task,\n",
        "                \"current_reasoning\": [],\n",
        "            }\n",
        "        )\n",
        "        state[\"is_first\"] = False\n",
        "\n",
        "    # no explicit input here, just run root node\n",
        "    response_str, is_done = qp.run()\n",
        "    # if done, store output and log to memory\n",
        "    # a core memory module is available in the `task` variable. Of course you can log\n",
        "    # and store your own memory as well\n",
        "    state[\"__output__\"] = response_str\n",
        "    if is_done:\n",
        "        task.memory.put_messages(\n",
        "            [\n",
        "                ChatMessage(content=task.input, role=MessageRole.USER),\n",
        "                ChatMessage(content=response_str, role=MessageRole.ASSISTANT),\n",
        "            ]\n",
        "        )\n",
        "    return state, is_done\n",
        "\n",
        "\n",
        "agent = FnAgentWorker(\n",
        "    fn=run_agent_fn,\n",
        "    initial_state={\"query_pipeline\": qp, \"is_first\": True},\n",
        ").as_agent()"
      ]
    },
    {
      "cell_type": "markdown",
      "metadata": {
        "id": "QteBeKHrCYcp"
      },
      "source": [
        "#####Run the Agent"
      ]
    },
    {
      "cell_type": "code",
      "execution_count": 14,
      "metadata": {
        "id": "tL8dJQJTCZaI"
      },
      "outputs": [],
      "source": [
        "# start task\n",
        "task = agent.create_task(\n",
        "    \"What are some tracks from the artist AC/DC? Limit it to 3\"\n",
        ")"
      ]
    },
    {
      "cell_type": "code",
      "execution_count": 15,
      "metadata": {
        "colab": {
          "base_uri": "https://localhost:8080/"
        },
        "id": "E1a2M7MBCcYE",
        "outputId": "e503f5c5-762b-4cc9-b93b-71676f6f1b7c"
      },
      "outputs": [
        {
          "name": "stderr",
          "output_type": "stream",
          "text": [
            "WARNING:llama_index.core.callbacks.utils:Could not find attribute callback_manager on <class 'llama_index.core.agent.custom.simple_function.FnAgentWorker'>.\n"
          ]
        },
        {
          "name": "stdout",
          "output_type": "stream",
          "text": [
            "\u001b[1;3;38;2;155;135;227m> Running module agent_input with input: \n",
            "\n",
            "\u001b[0m\u001b[1;3;38;2;155;135;227m> Running module react_prompt with input: \n",
            "input: What are some tracks from the artist AC/DC? Limit it to 3\n",
            "\n",
            "\u001b[0m\u001b[1;3;38;2;155;135;227m> Running module llm with input: \n",
            "messages: [ChatMessage(role=<MessageRole.SYSTEM: 'system'>, additional_kwargs={}, blocks=[TextBlock(block_type='text', text='You are designed to help with a variety of tasks, from answering questions to providi...\n",
            "\n",
            "\u001b[0m\u001b[1;3;38;2;155;135;227m> Running module react_output_parser with input: \n",
            "chat_response: assistant: Thought: The current language of the user is: English. I need to use a tool to help me answer the question.\n",
            "Action: sql_tool\n",
            "Action Input: {\"input\":\"List 3 tracks from the artist AC/DC\"}\n",
            "\n",
            "\u001b[0m\u001b[1;3;38;2;155;135;227m> Running module run_tool with input: \n",
            "reasoning_step: thought='The current language of the user is: English. I need to use a tool to help me answer the question.' action='sql_tool' action_input={'input': 'List 3 tracks from the artist AC/DC'}\n",
            "\n",
            "\u001b[0m> Table desc str: Table 'albums' has columns: AlbumId (INTEGER), Title (NVARCHAR(160)), ArtistId (INTEGER),  and foreign keys: ['ArtistId'] -> artists.['ArtistId'].\n",
            "\n",
            "Table 'tracks' has columns: TrackId (INTEGER), Name (NVARCHAR(200)), AlbumId (INTEGER), MediaTypeId (INTEGER), GenreId (INTEGER), Composer (NVARCHAR(220)), Milliseconds (INTEGER), Bytes (INTEGER), UnitPrice (NUMERIC(10, 2)),  and foreign keys: ['MediaTypeId'] -> media_types.['MediaTypeId'], ['GenreId'] -> genres.['GenreId'], ['AlbumId'] -> albums.['AlbumId'].\n",
            "\n",
            "Table 'artists' has columns: ArtistId (INTEGER), Name (NVARCHAR(120)), .\n",
            "> Predicted SQL query: SELECT t.Name, a.Name AS Artist\n",
            "FROM tracks t\n",
            "JOIN albums al ON t.AlbumId = al.AlbumId\n",
            "JOIN artists a ON al.ArtistId = a.ArtistId\n",
            "WHERE a.Name = 'AC/DC'\n",
            "LIMIT 3;\n"
          ]
        }
      ],
      "source": [
        "step_output = agent.run_step(task.task_id)"
      ]
    },
    {
      "cell_type": "code",
      "execution_count": 16,
      "metadata": {
        "colab": {
          "base_uri": "https://localhost:8080/"
        },
        "id": "fM8HIleoDNZc",
        "outputId": "36a59bfa-9cb6-40ba-ace7-d5d37fb16962"
      },
      "outputs": [
        {
          "name": "stderr",
          "output_type": "stream",
          "text": [
            "WARNING:llama_index.core.callbacks.utils:Could not find attribute callback_manager on <class 'llama_index.core.agent.custom.simple_function.FnAgentWorker'>.\n"
          ]
        },
        {
          "name": "stdout",
          "output_type": "stream",
          "text": [
            "\u001b[1;3;38;2;155;135;227m> Running module agent_input with input: \n",
            "\n",
            "\u001b[0m\u001b[1;3;38;2;155;135;227m> Running module react_prompt with input: \n",
            "input: What are some tracks from the artist AC/DC? Limit it to 3\n",
            "\n",
            "\u001b[0m\u001b[1;3;38;2;155;135;227m> Running module llm with input: \n",
            "messages: [ChatMessage(role=<MessageRole.SYSTEM: 'system'>, additional_kwargs={}, blocks=[TextBlock(block_type='text', text='You are designed to help with a variety of tasks, from answering questions to providi...\n",
            "\n",
            "\u001b[0m\u001b[1;3;38;2;155;135;227m> Running module react_output_parser with input: \n",
            "chat_response: assistant: Thought: I can answer without using any more tools. I'll use the user's language to answer.\n",
            "Answer: Tres canciones del artista AC/DC son \"For Those About To Rock (We Salute You)\", \"Put The ...\n",
            "\n",
            "\u001b[0m\u001b[1;3;38;2;155;135;227m> Running module process_response with input: \n",
            "response_step: thought=\"I can answer without using any more tools. I'll use the user's language to answer.\" response='Tres canciones del artista AC/DC son \"For Those About To Rock (We Salute You)\", \"Put The Finger O...\n",
            "\n",
            "\u001b[0m"
          ]
        }
      ],
      "source": [
        "step_output = agent.run_step(task.task_id)"
      ]
    },
    {
      "cell_type": "code",
      "execution_count": 17,
      "metadata": {
        "colab": {
          "base_uri": "https://localhost:8080/"
        },
        "id": "f5-mhfhWDWfP",
        "outputId": "050858c4-c599-4588-c552-1c42c23135b9"
      },
      "outputs": [
        {
          "data": {
            "text/plain": [
              "True"
            ]
          },
          "execution_count": 17,
          "metadata": {},
          "output_type": "execute_result"
        }
      ],
      "source": [
        "step_output.is_last"
      ]
    },
    {
      "cell_type": "code",
      "execution_count": 18,
      "metadata": {
        "id": "arVLa0T3DZdd"
      },
      "outputs": [],
      "source": [
        "response = agent.finalize_response(task.task_id)"
      ]
    },
    {
      "cell_type": "code",
      "execution_count": 19,
      "metadata": {
        "colab": {
          "base_uri": "https://localhost:8080/"
        },
        "id": "BlUWGaXsDaiZ",
        "outputId": "9dd49f38-96ed-4d58-9131-151dafd8bf9b"
      },
      "outputs": [
        {
          "name": "stdout",
          "output_type": "stream",
          "text": [
            "Tres canciones del artista AC/DC son \"For Those About To Rock (We Salute You)\", \"Put The Finger On You\" y \"Let's Get It Up\".\n"
          ]
        }
      ],
      "source": [
        "print(str(response))"
      ]
    },
    {
      "cell_type": "code",
      "execution_count": 21,
      "metadata": {
        "colab": {
          "base_uri": "https://localhost:8080/"
        },
        "id": "HY6yifBaDdM3",
        "outputId": "9d6a732f-190e-46cd-cb51-4075133bf2d2"
      },
      "outputs": [
        {
          "name": "stderr",
          "output_type": "stream",
          "text": [
            "WARNING:llama_index.core.callbacks.utils:Could not find attribute callback_manager on <class 'llama_index.core.agent.custom.simple_function.FnAgentWorker'>.\n"
          ]
        },
        {
          "name": "stdout",
          "output_type": "stream",
          "text": [
            "\u001b[1;3;38;2;155;135;227m> Running module agent_input with input: \n",
            "\n",
            "\u001b[0m\u001b[1;3;38;2;155;135;227m> Running module react_prompt with input: \n",
            "input: What are some tracks from the artist AC/DC? Limit it to 3\n",
            "\n",
            "\u001b[0m\u001b[1;3;38;2;155;135;227m> Running module llm with input: \n",
            "messages: [ChatMessage(role=<MessageRole.SYSTEM: 'system'>, additional_kwargs={}, blocks=[TextBlock(block_type='text', text='You are designed to help with a variety of tasks, from answering questions to providi...\n",
            "\n",
            "\u001b[0m\u001b[1;3;38;2;155;135;227m> Running module react_output_parser with input: \n",
            "chat_response: assistant: Thought: The current language of the user is: English. I need to use a tool to help me answer the question.\n",
            "Action: sql_tool\n",
            "Action Input: {\"input\":\"List 3 tracks from the artist AC/DC\"}\n",
            "\n",
            "\u001b[0m\u001b[1;3;38;2;155;135;227m> Running module run_tool with input: \n",
            "reasoning_step: thought='The current language of the user is: English. I need to use a tool to help me answer the question.' action='sql_tool' action_input={'input': 'List 3 tracks from the artist AC/DC'}\n",
            "\n",
            "\u001b[0m> Table desc str: Table 'albums' has columns: AlbumId (INTEGER), Title (NVARCHAR(160)), ArtistId (INTEGER),  and foreign keys: ['ArtistId'] -> artists.['ArtistId'].\n",
            "\n",
            "Table 'tracks' has columns: TrackId (INTEGER), Name (NVARCHAR(200)), AlbumId (INTEGER), MediaTypeId (INTEGER), GenreId (INTEGER), Composer (NVARCHAR(220)), Milliseconds (INTEGER), Bytes (INTEGER), UnitPrice (NUMERIC(10, 2)),  and foreign keys: ['MediaTypeId'] -> media_types.['MediaTypeId'], ['GenreId'] -> genres.['GenreId'], ['AlbumId'] -> albums.['AlbumId'].\n",
            "\n",
            "Table 'artists' has columns: ArtistId (INTEGER), Name (NVARCHAR(120)), .\n",
            "> Predicted SQL query: SELECT t.Name, a.Name AS Artist\n",
            "FROM tracks t\n",
            "JOIN albums al ON t.AlbumId = al.AlbumId\n",
            "JOIN artists a ON al.ArtistId = a.ArtistId\n",
            "WHERE a.Name = 'AC/DC'\n",
            "LIMIT 3;\n"
          ]
        },
        {
          "name": "stderr",
          "output_type": "stream",
          "text": [
            "WARNING:llama_index.core.callbacks.utils:Could not find attribute callback_manager on <class 'llama_index.core.agent.custom.simple_function.FnAgentWorker'>.\n"
          ]
        },
        {
          "name": "stdout",
          "output_type": "stream",
          "text": [
            "\u001b[1;3;38;2;155;135;227m> Running module agent_input with input: \n",
            "\n",
            "\u001b[0m\u001b[1;3;38;2;155;135;227m> Running module react_prompt with input: \n",
            "input: What are some tracks from the artist AC/DC? Limit it to 3\n",
            "\n",
            "\u001b[0m\u001b[1;3;38;2;155;135;227m> Running module llm with input: \n",
            "messages: [ChatMessage(role=<MessageRole.SYSTEM: 'system'>, additional_kwargs={}, blocks=[TextBlock(block_type='text', text='You are designed to help with a variety of tasks, from answering questions to providi...\n",
            "\n",
            "\u001b[0m\u001b[1;3;38;2;155;135;227m> Running module react_output_parser with input: \n",
            "chat_response: assistant: Thought: I can answer without using any more tools. I'll use the user's language to answer.\n",
            "Answer: Tres canciones del artista AC/DC son \"For Those About To Rock (We Salute You)\", \"Put The ...\n",
            "\n",
            "\u001b[0m\u001b[1;3;38;2;155;135;227m> Running module process_response with input: \n",
            "response_step: thought=\"I can answer without using any more tools. I'll use the user's language to answer.\" response='Tres canciones del artista AC/DC son \"For Those About To Rock (We Salute You)\", \"Put The Finger O...\n",
            "\n",
            "\u001b[0m"
          ]
        }
      ],
      "source": [
        "# run this e2e\n",
        "sql_agent = agent\n",
        "sql_agent.reset()\n",
        "response = sql_agent.chat(\n",
        "    \"What are some tracks from the artist AC/DC? Limit it to 3\"\n",
        ")"
      ]
    },
    {
      "cell_type": "code",
      "execution_count": 22,
      "metadata": {
        "colab": {
          "base_uri": "https://localhost:8080/"
        },
        "id": "9h5JXchRDknb",
        "outputId": "36d36251-dd67-464f-8ae3-a85766f13c6b"
      },
      "outputs": [
        {
          "name": "stdout",
          "output_type": "stream",
          "text": [
            "Tres canciones del artista AC/DC son \"For Those About To Rock (We Salute You)\", \"Put The Finger On You\" y \"Let's Get It Up\".\n"
          ]
        }
      ],
      "source": [
        "print(str(response))"
      ]
    },
    {
      "cell_type": "code",
      "execution_count": 31,
      "metadata": {
        "id": "fwm9y3xz8fmF"
      },
      "outputs": [],
      "source": [
        "from llama_index.core.tools import QueryEngineTool\n",
        "\n",
        "query_engine_tools = [\n",
        "    QueryEngineTool(\n",
        "        query_engine=sql_agent,\n",
        "        metadata=ToolMetadata(\n",
        "            name=\"sql_agent\", description=\"Agent that can execute SQL queries.\"\n",
        "        ),\n",
        "    ),\n",
        "    #QueryEngineTool(\n",
        "    #    query_engine=gmail_agent,\n",
        "    #    metadata=ToolMetadata(\n",
        "    #        name=\"gmail_agent\",\n",
        "    #        description=\"Tool that can send emails on Gmail.\",\n",
        "    #    ),\n",
        "    #),\n",
        "]\n",
        "\n",
        "outer_agent = ReActAgent.from_tools(query_engine_tools, llm=llm, verbose=True)"
      ]
    },
    {
      "cell_type": "code",
      "execution_count": 33,
      "metadata": {
        "colab": {
          "base_uri": "https://localhost:8080/"
        },
        "id": "rYJXifSgE7vu",
        "outputId": "ef5ac3d1-7f59-4df2-8b88-01c040a53227"
      },
      "outputs": [
        {
          "name": "stdout",
          "output_type": "stream",
          "text": [
            "> Running step 24170a1a-f077-400b-9025-08adb8be3435. Step input: What are some tracks from the artist AC/DC? Limit it to 3. Use the database\n"
          ]
        },
        {
          "name": "stderr",
          "output_type": "stream",
          "text": [
            "WARNING:llama_index.core.callbacks.utils:Could not find attribute callback_manager on <class 'llama_index.core.agent.custom.simple_function.FnAgentWorker'>.\n"
          ]
        },
        {
          "name": "stdout",
          "output_type": "stream",
          "text": [
            "\u001b[1;3;38;5;200mThought: The current language of the user is: English. I need to use a tool to help me answer the question.\n",
            "Action: sql_agent\n",
            "Action Input: {'input': \"SELECT track_name FROM tracks WHERE artist_name = 'AC/DC' LIMIT 3;\"}\n",
            "\u001b[0m\u001b[1;3;38;2;155;135;227m> Running module agent_input with input: \n",
            "\n",
            "\u001b[0m\u001b[1;3;38;2;155;135;227m> Running module react_prompt with input: \n",
            "input: SELECT track_name FROM tracks WHERE artist_name = 'AC/DC' LIMIT 3;\n",
            "\n",
            "\u001b[0m\u001b[1;3;38;2;155;135;227m> Running module llm with input: \n",
            "messages: [ChatMessage(role=<MessageRole.SYSTEM: 'system'>, additional_kwargs={}, blocks=[TextBlock(block_type='text', text='You are designed to help with a variety of tasks, from answering questions to providi...\n",
            "\n",
            "\u001b[0m\u001b[1;3;38;2;155;135;227m> Running module react_output_parser with input: \n",
            "chat_response: assistant: Thought: The current language of the user is: English. I need to use a tool to help me answer the question.\n",
            "Action: sql_tool\n",
            "Action Input: {\"input\":\"SELECT track_name FROM tracks WHERE arti...\n",
            "\n",
            "\u001b[0m\u001b[1;3;38;2;155;135;227m> Running module run_tool with input: \n",
            "reasoning_step: thought='The current language of the user is: English. I need to use a tool to help me answer the question.' action='sql_tool' action_input={'input': \"SELECT track_name FROM tracks WHERE artist_name =...\n",
            "\n",
            "\u001b[0m> Table desc str: Table 'albums' has columns: AlbumId (INTEGER), Title (NVARCHAR(160)), ArtistId (INTEGER),  and foreign keys: ['ArtistId'] -> artists.['ArtistId'].\n",
            "\n",
            "Table 'tracks' has columns: TrackId (INTEGER), Name (NVARCHAR(200)), AlbumId (INTEGER), MediaTypeId (INTEGER), GenreId (INTEGER), Composer (NVARCHAR(220)), Milliseconds (INTEGER), Bytes (INTEGER), UnitPrice (NUMERIC(10, 2)),  and foreign keys: ['MediaTypeId'] -> media_types.['MediaTypeId'], ['GenreId'] -> genres.['GenreId'], ['AlbumId'] -> albums.['AlbumId'].\n",
            "\n",
            "Table 'artists' has columns: ArtistId (INTEGER), Name (NVARCHAR(120)), .\n",
            "> Predicted SQL query: SELECT t.Name AS track_name\n",
            "FROM tracks t\n",
            "JOIN albums a ON t.AlbumId = a.AlbumId\n",
            "JOIN artists ar ON a.ArtistId = ar.ArtistId\n",
            "WHERE ar.Name = 'AC/DC'\n",
            "LIMIT 3;\n"
          ]
        },
        {
          "name": "stderr",
          "output_type": "stream",
          "text": [
            "WARNING:llama_index.core.callbacks.utils:Could not find attribute callback_manager on <class 'llama_index.core.agent.custom.simple_function.FnAgentWorker'>.\n"
          ]
        },
        {
          "name": "stdout",
          "output_type": "stream",
          "text": [
            "\u001b[1;3;38;2;155;135;227m> Running module agent_input with input: \n",
            "\n",
            "\u001b[0m\u001b[1;3;38;2;155;135;227m> Running module react_prompt with input: \n",
            "input: SELECT track_name FROM tracks WHERE artist_name = 'AC/DC' LIMIT 3;\n",
            "\n",
            "\u001b[0m\u001b[1;3;38;2;155;135;227m> Running module llm with input: \n",
            "messages: [ChatMessage(role=<MessageRole.SYSTEM: 'system'>, additional_kwargs={}, blocks=[TextBlock(block_type='text', text='You are designed to help with a variety of tasks, from answering questions to providi...\n",
            "\n",
            "\u001b[0m\u001b[1;3;38;2;155;135;227m> Running module react_output_parser with input: \n",
            "chat_response: assistant: Thought: I can answer without using any more tools. I'll use the user's language to answer.\n",
            "Answer: Las tres mejores canciones de AC/DC son \"For Those About To Rock (We Salute You)\", \"Put T...\n",
            "\n",
            "\u001b[0m\u001b[1;3;38;2;155;135;227m> Running module process_response with input: \n",
            "response_step: thought=\"I can answer without using any more tools. I'll use the user's language to answer.\" response='Las tres mejores canciones de AC/DC son \"For Those About To Rock (We Salute You)\", \"Put The Finge...\n",
            "\n",
            "\u001b[0m\u001b[1;3;34mObservation: Las tres mejores canciones de AC/DC son \"For Those About To Rock (We Salute You)\", \"Put The Finger On You\" y \"Let's Get It Up\".\n",
            "\u001b[0m> Running step 31362aa0-a9da-488a-8854-dfe760b1ffbf. Step input: None\n",
            "\u001b[1;3;38;5;200mThought: I can answer without using any more tools. I'll use the user's language to answer.\n",
            "Answer: Las tres mejores canciones de AC/DC son \"For Those About To Rock (We Salute You)\", \"Put The Finger On You\" y \"Let's Get It Up\".\n",
            "\u001b[0m"
          ]
        },
        {
          "data": {
            "text/plain": [
              "AgentChatResponse(response='Las tres mejores canciones de AC/DC son \"For Those About To Rock (We Salute You)\", \"Put The Finger On You\" y \"Let\\'s Get It Up\".', sources=[ToolOutput(content='Las tres mejores canciones de AC/DC son \"For Those About To Rock (We Salute You)\", \"Put The Finger On You\" y \"Let\\'s Get It Up\".', tool_name='sql_agent', raw_input={'input': \"SELECT track_name FROM tracks WHERE artist_name = 'AC/DC' LIMIT 3;\"}, raw_output=Response(response='Las tres mejores canciones de AC/DC son \"For Those About To Rock (We Salute You)\", \"Put The Finger On You\" y \"Let\\'s Get It Up\".', source_nodes=[], metadata=None), is_error=False)], source_nodes=[], is_dummy_stream=False, metadata=None)"
            ]
          },
          "execution_count": 33,
          "metadata": {},
          "output_type": "execute_result"
        }
      ],
      "source": [
        "outer_agent.chat(\"What are some tracks from the artist AC/DC? Limit it to 3. Use the database\")"
      ]
    },
    {
      "cell_type": "markdown",
      "metadata": {
        "id": "YixImwojFI51"
      },
      "source": [
        "###Agent With Planning"
      ]
    },
    {
      "cell_type": "code",
      "execution_count": 42,
      "metadata": {
        "id": "yMIiZ9I4FKX4"
      },
      "outputs": [],
      "source": [
        "from llama_index.agent.openai import OpenAIAgentWorker\n",
        "from llama_index.core.agent import (\n",
        "    StructuredPlannerAgent,\n",
        "    FunctionCallingAgentWorker,\n",
        ")\n",
        "\n",
        "lyft_tool = QueryEngineTool.from_defaults(\n",
        "    lyft_index.as_query_engine(),\n",
        "    name=\"lyft_2021\",\n",
        "    description=\"Useful for asking questions about Lyft's 2021 10-K filling.\",\n",
        ")\n",
        "\n",
        "uber_tool = QueryEngineTool.from_defaults(\n",
        "    uber_index.as_query_engine(),\n",
        "    name=\"uber_2021\",\n",
        "    description=\"Useful for asking questions about Uber's 2021 10-K filling.\",\n",
        ")\n",
        "\n",
        "worker = FunctionCallingAgentWorker.from_tools(\n",
        "    [lyft_tool, uber_tool], verbose=True\n",
        ")\n",
        "\n",
        "agent = StructuredPlannerAgent(\n",
        "    worker, tools=[lyft_tool, uber_tool], verbose=True\n",
        ")"
      ]
    },
    {
      "cell_type": "code",
      "execution_count": 44,
      "metadata": {
        "id": "5BGVkuBIGUPT"
      },
      "outputs": [],
      "source": [
        "import nest_asyncio\n",
        "\n",
        "nest_asyncio.apply()"
      ]
    },
    {
      "cell_type": "code",
      "execution_count": 45,
      "metadata": {
        "colab": {
          "base_uri": "https://localhost:8080/"
        },
        "id": "Tvji8yOoFg-b",
        "outputId": "cdb9cb91-0a5c-44d3-d370-4bb97542af93"
      },
      "outputs": [
        {
          "name": "stdout",
          "output_type": "stream",
          "text": [
            "=== Initial plan ===\n",
            "Ask about Lyft's key risk factors in 2021 10-K filing:\n",
            "Ask about the key risk factors in Lyft's 2021 10-K filing -> Key risk factors for Lyft in 2021 10-K filing\n",
            "deps: []\n",
            "\n",
            "\n",
            "Ask about Uber's key risk factors in 2021 10-K filing:\n",
            "Ask about the key risk factors in Uber's 2021 10-K filing -> Key risk factors for Uber in 2021 10-K filing\n",
            "deps: []\n",
            "\n",
            "\n",
            "> Running step ffac3609-34ce-45c5-875a-5221afefec27. Step input: Ask about the key risk factors in Lyft's 2021 10-K filing\n",
            "Added user message to memory: Ask about the key risk factors in Lyft's 2021 10-K filing\n",
            "> Running step f2ceb826-954e-4128-ae15-c30d3931c949. Step input: Ask about the key risk factors in Uber's 2021 10-K filing\n",
            "Added user message to memory: Ask about the key risk factors in Uber's 2021 10-K filing\n",
            "=== Calling Function ===\n",
            "Calling function: uber_2021 with args: {\"input\": \"key risk factors\"}\n",
            "=== Calling Function ===\n",
            "Calling function: lyft_2021 with args: {\"input\": \"key risk factors\"}\n",
            "=== Function Output ===\n",
            "The key risk factors outlined in the provided context include general economic factors, operational factors, regulatory and legal factors, financing and transactional risks, as well as governance risks and risks related to ownership of the capital stock.\n",
            "> Running step 82427b0c-da45-4621-8a2f-58b455f8d80c. Step input: None\n",
            "=== Function Output ===\n",
            "Key risk factors include potential challenges related to autonomous vehicle technologies, retention and attraction of high-quality personnel, security and data privacy breaches, cyberattacks, climate change risks, reliance on third parties for distribution and software, need for additional capital, risks associated with acquisitions and integration, legal and regulatory risks, risks related to data processing, intellectual property protection, market volatility, and the impact of the COVID-19 pandemic on business operations. Additionally, market risks such as interest rate risk, investment risk, and foreign currency risk are also significant factors to consider.\n",
            "> Running step ecbe77c1-cba7-4303-a751-5b8fb671ab29. Step input: None\n",
            "=== LLM Response ===\n",
            "The key risk factors in Lyft's 2021 10-K filing include general economic factors, operational factors, regulatory and legal factors, financing and transactional risks, as well as governance risks and risks related to ownership of the capital stock.\n",
            "=== LLM Response ===\n",
            "The key risk factors highlighted in Uber's 2021 10-K filing include challenges related to autonomous vehicle technologies, retention of high-quality personnel, security breaches, cyberattacks, climate change risks, reliance on third parties, need for additional capital, risks associated with acquisitions, legal and regulatory risks, data processing risks, intellectual property protection, market volatility, and the impact of the COVID-19 pandemic on business operations. Market risks such as interest rate risk, investment risk, and foreign currency risk are also significant factors to consider.\n",
            "=== Refined plan ===\n",
            "Summarize key risk factors for Lyft in 2021 10-K filing:\n",
            "Ask about Lyft's key risk factors in 2021 10-K filing -> The key risk factors in Lyft's 2021 10-K filing include general economic factors, operational factors, regulatory and legal factors, financing and transactional risks, as well as governance risks and risks related to ownership of the capital stock.\n",
            "deps: []\n",
            "\n",
            "\n",
            "Summarize key risk factors for Uber in 2021 10-K filing:\n",
            "Ask about Uber's key risk factors in 2021 10-K filing -> The key risk factors highlighted in Uber's 2021 10-K filing include challenges related to autonomous vehicle technologies, retention of high-quality personnel, security breaches, cyberattacks, climate change risks, reliance on third parties, need for additional capital, risks associated with acquisitions, legal and regulatory risks, data processing risks, intellectual property protection, market volatility, and the impact of the COVID-19 pandemic on business operations. Market risks such as interest rate risk, investment risk, and foreign currency risk are also significant factors to consider.\n",
            "deps: []\n",
            "\n",
            "\n",
            "> Running step b0bba231-3d75-4936-8de7-eebb6d2406f6. Step input: Ask about Lyft's key risk factors in 2021 10-K filing\n",
            "Added user message to memory: Ask about Lyft's key risk factors in 2021 10-K filing\n",
            "> Running step e4f3be65-c10e-48c1-b685-520a2651d5d8. Step input: Ask about Uber's key risk factors in 2021 10-K filing\n",
            "Added user message to memory: Ask about Uber's key risk factors in 2021 10-K filing\n",
            "=== Calling Function ===\n",
            "Calling function: lyft_2021 with args: {\"input\": \"key risk factors\"}\n",
            "=== Calling Function ===\n",
            "Calling function: uber_2021 with args: {\"input\": \"key risk factors\"}\n",
            "=== Calling Function ===\n",
            "Calling function: uber_2021 with args: {\"input\": \"key risk factors\"}\n",
            "=== Function Output ===\n",
            "Some key risk factors include general economic factors, operational factors, regulatory and legal factors, financing and transactional risks, and governance risks related to ownership of the capital stock.\n",
            "> Running step 0a2a1c9f-c4a9-4308-b5dc-b55c06a918a1. Step input: None\n",
            "=== LLM Response ===\n",
            "The key risk factors in Lyft's 2021 10-K filing include general economic factors, operational factors, regulatory and legal factors, financing and transactional risks, as well as governance risks related to ownership of the capital stock.\n",
            "=== Function Output ===\n",
            "The key risk factors include potential challenges related to autonomous vehicle technologies, retention of high-quality personnel, security and data privacy breaches, cyberattacks, climate change risks, reliance on third parties for distribution and software, need for additional capital, risks associated with acquisitions and integration, legal and regulatory risks, risks related to data processing, intellectual property protection, market volatility, and risks associated with the COVID-19 pandemic. Additionally, market risks such as interest rate risk, investment risk, and foreign currency risk are also highlighted as key risk factors.\n",
            "=== Function Output ===\n",
            "Key risk factors include potential failure to offer autonomous vehicle technologies on the platform, challenges in retaining and attracting high-quality personnel, security and data privacy breaches, cyberattacks, climate change risks, reliance on third parties for distribution and software, need for additional capital, risks related to acquisitions and integration, legal and regulatory risks, risks related to data processing, intellectual property protection, market volatility, and risks associated with the COVID-19 pandemic. Additionally, market risks such as interest rate risk, investment risk, and foreign currency risk are also significant factors to consider.\n",
            "> Running step 2f8e0813-3ec2-44f0-9bd0-035a6d0a34cf. Step input: None\n",
            "=== LLM Response ===\n",
            "The key risk factors in Uber's 2021 10-K filing include potential challenges related to autonomous vehicle technologies, retention of high-quality personnel, security and data privacy breaches, cyberattacks, climate change risks, reliance on third parties for distribution and software, need for additional capital, risks associated with acquisitions and integration, legal and regulatory risks, risks related to data processing, intellectual property protection, market volatility, and risks associated with the COVID-19 pandemic. Additionally, market risks such as interest rate risk, investment risk, and foreign currency risk are also highlighted as key risk factors.\n",
            "=== Refined plan ===\n",
            "Summarize key risk factors for Lyft and Uber in their 2021 10-K filings:\n",
            "Summarize the key risk factors for Lyft and Uber in their 2021 10-K filings -> The key risk factors for Lyft in their 2021 10-K filing include general economic factors, operational factors, regulatory and legal factors, financing and transactional risks, as well as governance risks related to ownership of the capital stock. For Uber, the key risk factors in their 2021 10-K filing include challenges related to autonomous vehicle technologies, retention of high-quality personnel, security breaches, cyberattacks, climate change risks, reliance on third parties for distribution and software, need for additional capital, risks associated with acquisitions and integration, legal and regulatory risks, risks related to data processing, intellectual property protection, market volatility, and risks associated with the COVID-19 pandemic. Market risks such as interest rate risk, investment risk, and foreign currency risk are also highlighted as key risk factors.\n",
            "deps: []\n",
            "\n",
            "\n",
            "> Running step 018c8929-385a-4dce-b94d-c722529c3432. Step input: Summarize the key risk factors for Lyft and Uber in their 2021 10-K filings\n",
            "Added user message to memory: Summarize the key risk factors for Lyft and Uber in their 2021 10-K filings\n",
            "=== Calling Function ===\n",
            "Calling function: lyft_2021 with args: {\"input\": \"key risk factors\"}\n",
            "=== Calling Function ===\n",
            "Calling function: uber_2021 with args: {\"input\": \"key risk factors\"}\n",
            "=== Function Output ===\n",
            "The key risk factors outlined in the provided context include general economic factors, operational factors, regulatory and legal factors, financing and transactional risks, as well as governance risks and risks related to ownership of the company's capital stock.\n",
            "=== Function Output ===\n",
            "The key risk factors outlined in the provided context include potential challenges related to autonomous vehicle technologies, retention of high-quality personnel, security and data privacy breaches, cyberattacks, climate change risks, reliance on third parties for distribution and software, the need for additional capital, risks associated with acquisitions and integration, legal and regulatory risks, risks related to data processing, intellectual property protection, market price volatility, and risks associated with the COVID-19 pandemic. Additionally, market risks such as interest rate risk, investment risk, and foreign currency risk are also highlighted as key factors to consider.\n",
            "> Running step a10bce7d-ad39-428e-bf9b-df415b382b6c. Step input: None\n",
            "=== LLM Response ===\n",
            "In Lyft's 2021 10-K filing, key risk factors include general economic factors, operational factors, regulatory and legal factors, financing and transactional risks, as well as governance risks and risks related to ownership of the company's capital stock.\n",
            "\n",
            "In Uber's 2021 10-K filing, key risk factors include challenges related to autonomous vehicle technologies, retention of high-quality personnel, security and data privacy breaches, cyberattacks, climate change risks, reliance on third parties for distribution and software, the need for additional capital, risks associated with acquisitions and integration, legal and regulatory risks, risks related to data processing, intellectual property protection, market price volatility, and risks associated with the COVID-19 pandemic. Additionally, market risks such as interest rate risk, investment risk, and foreign currency risk are also highlighted as key factors to consider.\n",
            "=== Refined plan ===\n",
            "Summarize key risk factors for Lyft and Uber in their 2021 10-K filings:\n",
            "Provide a summary of the key risk factors for Lyft and Uber in their 2021 10-K filings. -> In Lyft's 2021 10-K filing, key risk factors include general economic factors, operational factors, regulatory and legal factors, financing and transactional risks, as well as governance risks and risks related to ownership of the company's capital stock.\n",
            "\n",
            "In Uber's 2021 10-K filing, key risk factors include challenges related to autonomous vehicle technologies, retention of high-quality personnel, security and data privacy breaches, cyberattacks, climate change risks, reliance on third parties for distribution and software, the need for additional capital, risks associated with acquisitions and integration, legal and regulatory risks, risks related to data processing, intellectual property protection, market price volatility, and risks associated with the COVID-19 pandemic. Additionally, market risks such as interest rate risk, investment risk, and foreign currency risk are also highlighted as key factors to consider.\n",
            "deps: []\n",
            "\n",
            "\n"
          ]
        }
      ],
      "source": [
        "response = agent.chat(\n",
        "    \"Summarize the key risk factors for Lyft and Uber in their 2021 10-K filings.\"\n",
        ")"
      ]
    },
    {
      "cell_type": "markdown",
      "metadata": {
        "id": "MIXdvTENFbZB"
      },
      "source": [
        "###Lower-Level API"
      ]
    },
    {
      "cell_type": "code",
      "execution_count": 46,
      "metadata": {
        "id": "CVkxqSi0FbR4"
      },
      "outputs": [],
      "source": [
        "from llama_index.core.agent import AgentRunner\n",
        "from llama_index.agent.openai import OpenAIAgentWorker\n",
        "\n",
        "openai_step_engine = OpenAIAgentWorker.from_tools([lyft_tool, uber_tool], llm=llm, verbose=True)\n",
        "agent = AgentRunner(openai_step_engine)"
      ]
    },
    {
      "cell_type": "code",
      "execution_count": 47,
      "metadata": {
        "colab": {
          "base_uri": "https://localhost:8080/"
        },
        "id": "iXGAl-d1Go4s",
        "outputId": "bb6448c8-5a6e-4550-a5d5-e082b5a3efef"
      },
      "outputs": [
        {
          "name": "stdout",
          "output_type": "stream",
          "text": [
            "Added user message to memory: Summarize the key risk factors for Lyft and Uber in their 2021 10-K filings.\n",
            "=== Calling Function ===\n",
            "Calling function: lyft_2021 with args: {\"input\": \"key risk factors\"}\n",
            "Got output: The key risk factors outlined in the provided context include general economic factors, operational factors, regulatory and legal factors, financing and transactional risks, as well as governance risks and risks related to ownership of the company's capital stock.\n",
            "========================\n",
            "\n",
            "=== Calling Function ===\n",
            "Calling function: uber_2021 with args: {\"input\": \"key risk factors\"}\n",
            "Got output: The key risk factors include potential challenges related to autonomous vehicle technologies, retention of high-quality personnel, security and data privacy breaches, cyberattacks, climate change risks, reliance on third parties for distribution and software, need for additional capital, risks associated with acquisitions and integration, legal and regulatory risks, risks related to data processing, intellectual property protection, market volatility, and risks associated with the COVID-19 pandemic. Additionally, market risks such as interest rate risk, investment risk, and foreign currency risk are also highlighted as key risk factors for the business.\n",
            "========================\n",
            "\n"
          ]
        }
      ],
      "source": [
        "response = agent.chat(\n",
        "    \"Summarize the key risk factors for Lyft and Uber in their 2021 10-K filings.\"\n",
        ")"
      ]
    }
  ],
  "metadata": {
    "colab": {
      "provenance": []
    },
    "kernelspec": {
      "display_name": "Python 3",
      "name": "python3"
    },
    "language_info": {
      "name": "python"
    }
  },
  "nbformat": 4,
  "nbformat_minor": 0
}
